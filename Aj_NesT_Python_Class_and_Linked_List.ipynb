{
  "nbformat": 4,
  "nbformat_minor": 0,
  "metadata": {
    "colab": {
      "provenance": []
    },
    "kernelspec": {
      "name": "python3",
      "display_name": "Python 3"
    },
    "language_info": {
      "name": "python"
    }
  },
  "cells": [
    {
      "cell_type": "markdown",
      "source": [
        "# **Python Class and Linked List**\n",
        "\n",
        "Aj.NesT the Series"
      ],
      "metadata": {
        "id": "tJz8xtMZkohn"
      }
    },
    {
      "cell_type": "markdown",
      "source": [
        "# **สร้าง Class แบบไม่มีฟังก์ชัน initial()**"
      ],
      "metadata": {
        "id": "2xQJ1IK3h9QV"
      }
    },
    {
      "cell_type": "code",
      "execution_count": 22,
      "metadata": {
        "colab": {
          "base_uri": "https://localhost:8080/"
        },
        "id": "tfrs3lLSAEkG",
        "outputId": "1321fb45-e80b-4476-abdf-2aed3ef4442e"
      },
      "outputs": [
        {
          "output_type": "stream",
          "name": "stdout",
          "text": [
            "10 20 30\n",
            "\n",
            "## Class without initial function ##\n",
            "First box width = 1\n",
            "First box width = 1, height = 2, lenght = 3\n",
            "First box width = 100\n",
            "First box height = 200\n",
            "First box length = 300\n"
          ]
        }
      ],
      "source": [
        "# prompt: การสร้างคลาสแบบไม่มีฟังก์ชัน `__init__()` (เช่น Box1) กำหนดค่า width, height, length\n",
        "\n",
        "class Box1:\n",
        "  width = 1\n",
        "  height = 2\n",
        "  length = 3\n",
        "\n",
        "#Call Class\n",
        "box = Box1()\n",
        "box.width = 10\n",
        "box.height = 20\n",
        "box.length = 30\n",
        "\n",
        "print(box.width, box.height, box.length)\n",
        "\n",
        "#Exercise 1\n",
        "print(\"\\n## Class without initial function ##\")\n",
        "FirstBox = Box1()\n",
        "print(\"First box width = \" + str(FirstBox.width))\n",
        "print(\"First box width = \" + str(FirstBox.width) + \", height = \" + str(FirstBox.height) + \", lenght = \" + str(FirstBox.length))\n",
        "\n",
        "FirstBox.width = 100\n",
        "FirstBox.height = 200\n",
        "FirstBox.length = 300\n",
        "print(\"First box width = \" + str(FirstBox.width))\n",
        "print(\"First box height = \" + str(FirstBox.height))\n",
        "print(\"First box length = \" + str(FirstBox.length))"
      ]
    },
    {
      "cell_type": "markdown",
      "source": [
        "# **สร้าง Class แบบมีฟังก์ชัน initial()**"
      ],
      "metadata": {
        "id": "P_yuVbKeipOs"
      }
    },
    {
      "cell_type": "code",
      "source": [
        "# prompt:  การสร้างคลาสแบบมีฟังก์ชัน `__init__()` (เช่น Box2) กำหนดค่า width, height, length\n",
        "\n",
        "class Box2:\n",
        "  def __init__(self, width, height, length):\n",
        "    self.width = width\n",
        "    self.height = height\n",
        "    self.length = length\n",
        "\n",
        "#Call Class\n",
        "box = Box2(10,20,30) #parameters\n",
        "print(box.width, box.height, box.length)\n",
        "\n",
        "#Exercise 2\n",
        "print(\"\\n## Class with initial function ##\")\n",
        "SecondBox = Box2(100,200,300)\n",
        "print(\"Second box width = \" + str(SecondBox.width))\n",
        "print(\"Second box height = \" + str(SecondBox.height))\n",
        "print(\"Second box length = \" + str(SecondBox.length))"
      ],
      "metadata": {
        "colab": {
          "base_uri": "https://localhost:8080/"
        },
        "id": "SN-vyZQMCEqR",
        "outputId": "da9925ae-f76b-44b0-a996-4b5d20098cf6"
      },
      "execution_count": 24,
      "outputs": [
        {
          "output_type": "stream",
          "name": "stdout",
          "text": [
            "10 20 30\n",
            "\n",
            "## Class with initial function ##\n",
            "Second box width = 100\n",
            "Second box height = 200\n",
            "Second box length = 300\n"
          ]
        }
      ]
    },
    {
      "cell_type": "markdown",
      "source": [
        "# **สร้าง User Defined Functions ภายใน Class**"
      ],
      "metadata": {
        "id": "0wq-ctKmiyCd"
      }
    },
    {
      "cell_type": "code",
      "source": [
        "# prompt: การเรียกใช้ฟังก์ชันภายในคลาส (เช่น ฟังก์ชัน calculate() ใน Box3 ไม่ใช้ init() และ Box4 ใช้ init())\n",
        "#Exercise 3\n",
        "print(\"## Class without initial fucntion and user defined function\")\n",
        "class Box3:\n",
        "  width = 1\n",
        "  height = 2\n",
        "  length = 3\n",
        "\n",
        "  def calculate(self):\n",
        "    return self.width * self.height * self.length\n",
        "\n",
        "  #Add New Calculate Function\n",
        "  def newCalculate(self):\n",
        "    self.Measure = self.width * self.height * self.length\n",
        "    return self.Measure\n",
        "\n",
        "#Call Class and Functions\n",
        "box = Box3()\n",
        "box.width = 10\n",
        "box.height = 20\n",
        "box.length = 30\n",
        "print(box.calculate())\n",
        "print(\"calculate = \" + str(box.calculate()))\n",
        "\n",
        "#Add\n",
        "ThirdBox = Box3()\n",
        "ThirdBox.width = 100\n",
        "ThirdBox.height = 200\n",
        "ThirdBox.length = 300\n",
        "print(ThirdBox.newCalculate())\n",
        "print(\"newCalcuate = \" + str(ThirdBox.newCalculate()))\n",
        "\n",
        "#Exercise 4\n",
        "print(\"\\n## Class with initial fucntion and user defined function\")\n",
        "class Box4:\n",
        "  def __init__(self, width, height, length):\n",
        "    self.width = width\n",
        "    self.height = height\n",
        "    self.length = length\n",
        "\n",
        "  def calculate2(self):\n",
        "    return self.width * self.height * self.length\n",
        "\n",
        "  #Add New Calculate2 Function\n",
        "  def newCalculate2(self):\n",
        "    self.newMeasure = (self.width * self.height * self.length)/2\n",
        "    return self.newMeasure\n",
        "\n",
        "#Call Class and Functions\n",
        "box = Box4(10,20,30)\n",
        "\n",
        "#ถ้าใช้ print(box.calculate()) จะไม่ได้เพราะ Class ใน Box4 ไม่มีฟังก์ชันนี้\n",
        "print(box.calculate2())\n",
        "print(\"calculate2 = \" + str(box.calculate2()))\n",
        "\n",
        "#Add\n",
        "FourthBox = Box4(100,200,300)\n",
        "print(FourthBox.newCalculate2())\n",
        "print(\"newCalculate2 = \" + str(FourthBox.newCalculate2()))"
      ],
      "metadata": {
        "colab": {
          "base_uri": "https://localhost:8080/"
        },
        "id": "rxfKiuT0GrUk",
        "outputId": "5e92d425-c6fe-4d64-a9c6-b15c6c22041d"
      },
      "execution_count": 55,
      "outputs": [
        {
          "output_type": "stream",
          "name": "stdout",
          "text": [
            "## Class without initial fucntion and user defined function\n",
            "6000\n",
            "calculate = 6000\n",
            "6000000\n",
            "newCalcuate = 6000000\n",
            "\n",
            "## Class with initial fucntion and user defined function\n",
            "6000\n",
            "calculate2 = 6000\n",
            "3000000.0\n",
            "newCalculate2 = 3000000.0\n"
          ]
        }
      ]
    },
    {
      "cell_type": "markdown",
      "source": [
        "# **สร้างและเรียกใช้งาน Class ได้หลาย Class**"
      ],
      "metadata": {
        "id": "X_NmzBvQi-Nq"
      }
    },
    {
      "cell_type": "code",
      "source": [
        "# prompt: การลิงก์ค่า (link parameters) ระหว่างหลายคลาสเข้าด้วยกัน (เช่น Box5, Name, Colour, Width, Height, Length)\n",
        "\n",
        "class Box5:\n",
        "    def __init__(self, name, colour, width, height, length):\n",
        "        self.name = name\n",
        "        self.colour = colour\n",
        "        self.width = width\n",
        "        self.height = height\n",
        "        self.length = length\n",
        "\n",
        "    def volume(self):\n",
        "        return self.width * self.height * self.length\n",
        "\n",
        "# Example usage\n",
        "box1 = Box5(\"Box A\", \"Red\", 10, 20, 30)\n",
        "print(f\"Box Name: {box1.name}\")\n",
        "print(f\"Box Colour: {box1.colour}\")\n",
        "print(f\"Box Dimensions: {box1.width} x {box1.height} x {box1.length}\")\n",
        "print(f\"Box Volume: {box1.volume()}\")\n",
        "\n",
        "box2 = Box5(\"Box B\", \"Blue\", 5, 10, 15)\n",
        "print(f\"Box Name: {box2.name}\")\n",
        "print(f\"Box Colour: {box2.colour}\")\n",
        "print(f\"Box Dimensions: {box2.width} x {box2.height} x {box2.length}\")\n",
        "print(f\"Box Volume: {box2.volume()}\")\n",
        "\n",
        "#Exercise 5\n",
        "print(\"\\n## Link Parameters\")\n",
        "class Name:\n",
        "  def __init__(self, name, surname):\n",
        "    self.name = name\n",
        "    self.surname = surname\n",
        "    print(\"Name = \" + self.name + \" \" + self.surname)\n",
        "\n",
        "class Age:\n",
        "  def __init__(self, age):\n",
        "    self.age = age\n",
        "    print(\"Age = \" + str(self.age))\n",
        "\n",
        "class Colour:\n",
        "  def __init__(self, colour):\n",
        "    self.colour = colour\n",
        "    print(\"Colour = \" + self.colour)\n",
        "\n",
        "class Weight:\n",
        "  def __init__(self, weight):\n",
        "    self.weight = weight\n",
        "    print(\"Weight = \" + str(self.weight))\n",
        "\n",
        "class Height:\n",
        "  def __init__(self, height):\n",
        "    self.height = height\n",
        "    print(\"Height = \" + str(self.height))\n",
        "\n",
        "#Call Clases\n",
        "print(\"Person 1\")\n",
        "name = Name(\"Aj.NesT\", \"the Series\")\n",
        "age = Age(30)\n",
        "weight = Weight(68)\n",
        "height = Height(178)\n",
        "\n",
        "print(\"\\nPerson 2\")\n",
        "name = Name(\"Python\", \"Language\")\n",
        "age = Age(20)\n",
        "weight = Weight(50)\n",
        "height = Height(160)\n"
      ],
      "metadata": {
        "colab": {
          "base_uri": "https://localhost:8080/"
        },
        "id": "qPiF6qVFUr4I",
        "outputId": "0dde95c8-7f05-42cd-9b5b-ba5a62e674d0"
      },
      "execution_count": 76,
      "outputs": [
        {
          "output_type": "stream",
          "name": "stdout",
          "text": [
            "Box Name: Box A\n",
            "Box Colour: Red\n",
            "Box Dimensions: 10 x 20 x 30\n",
            "Box Volume: 6000\n",
            "Box Name: Box B\n",
            "Box Colour: Blue\n",
            "Box Dimensions: 5 x 10 x 15\n",
            "Box Volume: 750\n",
            "\n",
            "## Link Parameters\n",
            "Person 1\n",
            "Name = Aj.NesT the Series\n",
            "Age = 30\n",
            "Weight = 68\n",
            "Height = 178\n",
            "\n",
            "Person 2\n",
            "Name = Python Language\n",
            "Age = 20\n",
            "Weight = 50\n",
            "Height = 160\n"
          ]
        }
      ]
    },
    {
      "cell_type": "markdown",
      "source": [
        "# **Linked List -> append() and ListPrint()**"
      ],
      "metadata": {
        "id": "63baPa81kDDZ"
      }
    },
    {
      "cell_type": "code",
      "source": [
        "# prompt: ช่วยเขียนโค้ด Python สำหรับ Linked List ที่มี method append และ print โดยให้แสดงตัวอย่างการใส่ค่า 4 และ 10\n",
        "\n",
        "class Node:\n",
        "    def __init__(self, value):\n",
        "        self.value = value\n",
        "        self.nextValue = \"\"\n",
        "\n",
        "class LinkedList:\n",
        "    def __init__(self):\n",
        "        self.Header = \"\"\n",
        "\n",
        "    def append(self, value):\n",
        "        if self.Header != \"\":\n",
        "            self = self.Header\n",
        "            while self.nextValue != \"\":\n",
        "                self = self.nextValue\n",
        "            self.nextValue = Node(value)\n",
        "        self.nextValue = Node(value)\n",
        "\n",
        "    def ListPrint(self):\n",
        "        PrintResult = self.Header\n",
        "        while PrintResult != \"\":\n",
        "            print(PrintResult.value, end = \"\")\n",
        "            PrintResult = PrintResult.nextValue\n",
        "            if PrintResult != \"\":\n",
        "                print(\" -> \", end = \"\")\n",
        "\n",
        "# Example usage\n",
        "List_A = LinkedList()\n",
        "List_A.Header = Node(4)\n",
        "#List_A.Header = Node(\"Header\")\n",
        "List_A.append(10)\n",
        "List_A.append(20)\n",
        "List_A.append(30)\n",
        "List_A.append(40)\n",
        "List_A.ListPrint()\n",
        ""
      ],
      "metadata": {
        "colab": {
          "base_uri": "https://localhost:8080/"
        },
        "id": "_8wISh5OX7rW",
        "outputId": "d827a535-d31d-4955-f9ad-f01c7254b18a"
      },
      "execution_count": 86,
      "outputs": [
        {
          "output_type": "stream",
          "name": "stdout",
          "text": [
            "4 -> 10 -> 20 -> 30 -> 40"
          ]
        }
      ]
    },
    {
      "cell_type": "markdown",
      "source": [
        "# **Linked List -> เพิ่ม insert() และ remove()**"
      ],
      "metadata": {
        "id": "ne-nXyIEkMVJ"
      }
    },
    {
      "cell_type": "markdown",
      "source": [
        "กดปุ่ม Gemini แล้ว Copy Patse โค้ดด้านบน -> เสร็จแล้วพิมพ์ Prompt **\"เพิ่มคำสั่ง insert และ remove\"**\n",
        "\n",
        "หลังจากนั้น Copy Code ที่ได้มาใช้"
      ],
      "metadata": {
        "id": "QBWrBYMghSjh"
      }
    },
    {
      "cell_type": "code",
      "source": [
        "class Node:\n",
        "    def __init__(self, value):\n",
        "        self.value = value\n",
        "        self.nextValue = None  # Use None instead of \"\" for clarity\n",
        "\n",
        "class LinkedList:\n",
        "    def __init__(self):\n",
        "        self.Header = None\n",
        "\n",
        "    def append(self, value):\n",
        "        newNode = Node(value)\n",
        "        if self.Header is None:\n",
        "            self.Header = newNode\n",
        "            return\n",
        "        lastNode = self.Header\n",
        "        while lastNode.nextValue:\n",
        "            lastNode = lastNode.nextValue\n",
        "        lastNode.nextValue = newNode\n",
        "\n",
        "    def ListPrint(self):\n",
        "        PrintResult = self.Header\n",
        "        while PrintResult:\n",
        "            print(PrintResult.value, end=\"\")\n",
        "            PrintResult = PrintResult.nextValue\n",
        "            if PrintResult:\n",
        "                print(\" -> \", end=\"\")\n",
        "        print()  # Add a newline for better output formatting\n",
        "\n",
        "    def insert(self, value, position):\n",
        "        newNode = Node(value)\n",
        "        if position == 0:\n",
        "            newNode.nextValue = self.Header\n",
        "            self.Header = newNode\n",
        "            return\n",
        "        currentNode = self.Header\n",
        "        currentPosition = 0\n",
        "        while currentPosition < position - 1 and currentNode:\n",
        "            currentNode = currentNode.nextValue\n",
        "            currentPosition += 1\n",
        "        if currentNode is None:\n",
        "            print(\"Position out of bounds\")\n",
        "            return\n",
        "        newNode.nextValue = currentNode.nextValue\n",
        "        currentNode.nextValue = newNode\n",
        "\n",
        "    def remove(self, value):\n",
        "        if self.Header is None:\n",
        "            return\n",
        "        if self.Header.value == value:\n",
        "            self.Header = self.Header.nextValue\n",
        "            return\n",
        "        currentNode = self.Header\n",
        "        while currentNode.nextValue and currentNode.nextValue.value != value:\n",
        "            currentNode = currentNode.nextValue\n",
        "        if currentNode.nextValue:\n",
        "            currentNode.nextValue = currentNode.nextValue.nextValue\n",
        "        else:\n",
        "            print(\"Value not found in list\")\n",
        "\n",
        "List_A = LinkedList()\n",
        "List_A.Header = Node(4)\n",
        "List_A.append(10)\n",
        "List_A.append(20)\n",
        "List_A.append(30)\n",
        "List_A.append(40)\n",
        "List_A.ListPrint()  # Output: 4 -> 10 -> 20 -> 30 -> 40\n",
        "\n",
        "List_A.insert(15, 2)  # Insert 15 at position 2\n",
        "List_A.ListPrint()  # Output: 4 -> 10 -> 15 -> 20 -> 30 -> 40\n",
        "\n",
        "List_A.remove(20)  # Remove node with value 20\n",
        "List_A.ListPrint()  # Output: 4 -> 10 -> 15 -> 30 -> 40"
      ],
      "metadata": {
        "colab": {
          "base_uri": "https://localhost:8080/"
        },
        "id": "Hkw8Hd6xgh_R",
        "outputId": "9c5d7847-c409-46a7-bcfb-937454a8cdb1"
      },
      "execution_count": 98,
      "outputs": [
        {
          "output_type": "stream",
          "name": "stdout",
          "text": [
            "4 -> 10 -> 20 -> 30 -> 40\n",
            "4 -> 10 -> 15 -> 20 -> 30 -> 40\n",
            "4 -> 10 -> 15 -> 30 -> 40\n"
          ]
        }
      ]
    }
  ]
}