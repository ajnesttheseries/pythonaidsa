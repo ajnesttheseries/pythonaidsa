{
  "nbformat": 4,
  "nbformat_minor": 0,
  "metadata": {
    "colab": {
      "provenance": []
    },
    "kernelspec": {
      "name": "python3",
      "display_name": "Python 3"
    },
    "language_info": {
      "name": "python"
    }
  },
  "cells": [
    {
      "cell_type": "code",
      "execution_count": null,
      "metadata": {
        "colab": {
          "base_uri": "https://localhost:8080/"
        },
        "id": "jGGC3JpMdcm6",
        "outputId": "ec76f57f-7924-46dc-b33d-d277eaa7ad86"
      },
      "outputs": [
        {
          "output_type": "stream",
          "name": "stdout",
          "text": [
            "Hello from my_function!\n"
          ]
        }
      ],
      "source": [
        "# prompt: การสร้าง User Defined Functions แบบไม่มี parameter และไม่มี return\n",
        "\n",
        "def my_function():\n",
        "  \"\"\"This function does not take any parameters and does not return anything.\"\"\"\n",
        "  print(\"Hello from my_function!\")\n",
        "\n",
        "# Call the function\n",
        "my_function()"
      ]
    },
    {
      "cell_type": "code",
      "source": [
        "# prompt: การสร้าง User Defined Functions แบบไม่มี parameter แต่มี return\n",
        "\n",
        "def my_function():\n",
        "  \"\"\"This function does not take any parameters but returns a value.\"\"\"\n",
        "  return \"Hello from my_function!\"\n",
        "\n",
        "# Call the function and print the returned value\n",
        "returned_value = my_function()\n",
        "returned_value"
      ],
      "metadata": {
        "colab": {
          "base_uri": "https://localhost:8080/",
          "height": 36
        },
        "id": "lm0z7N1MgPKA",
        "outputId": "d23e5941-d013-4ebb-e1c2-b27f1e5a5986"
      },
      "execution_count": null,
      "outputs": [
        {
          "output_type": "execute_result",
          "data": {
            "text/plain": [
              "'Hello from my_function!'"
            ],
            "application/vnd.google.colaboratory.intrinsic+json": {
              "type": "string"
            }
          },
          "metadata": {},
          "execution_count": 3
        }
      ]
    },
    {
      "cell_type": "code",
      "source": [
        "# prompt: การสร้าง User Defined Functions แบบมี parameter และไม่มี return\n",
        "\n",
        "def greet(name):\n",
        "  \"\"\"This function greets the person passed in as a parameter.\"\"\"\n",
        "  print(f\"Hello, {name}!\")\n",
        "\n",
        "# Call the function with a parameter\n",
        "greet(\"World\")\n",
        "\n",
        "\n",
        "def print_sum(a, b):\n",
        "  \"\"\"This function takes two numbers as parameters and prints their sum.\"\"\"\n",
        "  print(f\"The sum of {a} and {b} is {a + b}\")\n",
        "\n",
        "# Call the function with two parameters\n",
        "#print_sum(5, 3)\n",
        "number1 = int(input(\"Enter number1: \"))\n",
        "number2 = int(input(\"Enter number2: \"))\n",
        "print_sum(number1, number2)"
      ],
      "metadata": {
        "colab": {
          "base_uri": "https://localhost:8080/"
        },
        "id": "5fDzCVQvgbgG",
        "outputId": "0a139d0f-e57e-4f2a-bb5e-34dd26afa4f9"
      },
      "execution_count": 21,
      "outputs": [
        {
          "output_type": "stream",
          "name": "stdout",
          "text": [
            "Hello, World!\n",
            "Enter number1: 60\n",
            "Enter number2: 80\n",
            "The sum of 60 and 80 is 140\n"
          ]
        }
      ]
    },
    {
      "cell_type": "code",
      "source": [
        "# prompt: การสร้าง User Defined Functions แบบมี parameter และมี return\n",
        "\n",
        "def calculate_sum(a, b):\n",
        "  \"\"\"This function takes two numbers as parameters and returns their sum.\"\"\"\n",
        "  return a + b\n",
        "\n",
        "# Call the function with two parameters and store the returned value\n",
        "#sum_result = calculate_sum(5, 3)\n",
        "number1 = int(input(\"Enter number1: \"))\n",
        "number2 = int(input(\"Enter number2: \"))\n",
        "sum_result = calculate_sum(number1, number2)\n",
        "\n",
        "# Print the returned value\n",
        "print(f\"The sum is: {sum_result}\")"
      ],
      "metadata": {
        "colab": {
          "base_uri": "https://localhost:8080/"
        },
        "id": "_pKHfteNgkXY",
        "outputId": "29b79352-7915-4fa7-ab08-437b25038e91"
      },
      "execution_count": 23,
      "outputs": [
        {
          "output_type": "stream",
          "name": "stdout",
          "text": [
            "Enter number1: 5\n",
            "Enter number2: 3\n",
            "The sum is: 8\n"
          ]
        }
      ]
    },
    {
      "cell_type": "code",
      "source": [
        "# prompt: การสร้าง Recursive Function เรื่อง Factorial ไม่ต้องมี try except\n",
        "\n",
        "def factorial(n):\n",
        "  \"\"\"\n",
        "  This function calculates the factorial of a non-negative integer using recursion.\n",
        "  \"\"\"\n",
        "  if n == 0:\n",
        "    return 1\n",
        "  else:\n",
        "    return n * factorial(n-1)\n",
        "\n",
        "# Get input from the user (you can change this to test with different values)\n",
        "#number = 5\n",
        "number = int(input(\"Enter number: \"))\n",
        "\n",
        "# Calculate and print the factorial\n",
        "result = factorial(number)\n",
        "print(f\"The factorial of {number} is {result}\")"
      ],
      "metadata": {
        "id": "qnPg7XSIgueP",
        "colab": {
          "base_uri": "https://localhost:8080/"
        },
        "outputId": "1a3ce045-58ed-4ab7-9b89-b32c517b8098"
      },
      "execution_count": 18,
      "outputs": [
        {
          "output_type": "stream",
          "name": "stdout",
          "text": [
            "Enter number: 8\n",
            "The factorial of 8 is 40320\n"
          ]
        }
      ]
    },
    {
      "cell_type": "code",
      "source": [
        "# prompt: การสร้าง Harmonic Series ทำโค้ดแบบง่าย\n",
        "\n",
        "def harmonic_series(n):\n",
        "  \"\"\"\n",
        "  This function calculates the sum of the first n terms of the harmonic series.\n",
        "  \"\"\"\n",
        "  if n <= 0:\n",
        "    return 0  # Handle invalid input\n",
        "\n",
        "  sum_of_series = 0\n",
        "  for i in range(1, n + 1):\n",
        "    sum_of_series += 1 / i\n",
        "    print(f\"Round {i} = {sum_of_series}\")\n",
        "  return sum_of_series\n",
        "\n",
        "# Example usage\n",
        "n_terms = 5  # You can change the number of terms\n",
        "result = harmonic_series(n_terms)\n",
        "print(f\"The sum of the first {n_terms} terms of the harmonic series is: {result}\")"
      ],
      "metadata": {
        "colab": {
          "base_uri": "https://localhost:8080/"
        },
        "id": "083MybUjh39K",
        "outputId": "f99b7648-83cd-4bfd-bcff-fc6064106951"
      },
      "execution_count": 13,
      "outputs": [
        {
          "output_type": "stream",
          "name": "stdout",
          "text": [
            "Round 1 = 1.0\n",
            "Round 2 = 1.5\n",
            "Round 3 = 1.8333333333333333\n",
            "Round 4 = 2.083333333333333\n",
            "Round 5 = 2.283333333333333\n",
            "The sum of the first 5 terms of the harmonic series is: 2.283333333333333\n"
          ]
        }
      ]
    }
  ]
}