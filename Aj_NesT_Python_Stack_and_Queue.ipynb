{
  "nbformat": 4,
  "nbformat_minor": 0,
  "metadata": {
    "colab": {
      "provenance": []
    },
    "kernelspec": {
      "name": "python3",
      "display_name": "Python 3"
    },
    "language_info": {
      "name": "python"
    }
  },
  "cells": [
    {
      "cell_type": "code",
      "source": [
        "# prompt: ช่วยสร้าง Stack โดยใช้ Python list โดยให้มีข้อมูลเริ่มต้นเป็น [5,10,19,7,8] และแสดงการเข้าถึงข้อมูลทั้งแบบ horizontal และ vertical view พร้อมแสดง index ของแต่ละตำแหน่ง\n",
        "#สร้าง Stack แนวนอน กับ แนวตั้ง\n",
        "stack = [5, 10, 19, 7, 8]\n",
        "\n",
        "# Horizontal view\n",
        "print(\"Horizontal View:\") #เริ่มลูปปกติ Index[0] แรกไปเรื่อย ๆ จนถึงสุดท้าย\n",
        "for i, value in enumerate(stack): #คำสั่ง enumerate เหมือนป้ายกำกับสินค้า เก็บทั้งค่า index และ element\n",
        "    print(f\"Index {i}: {value}\", end=\"  \") # end=\"  \" ต่อเป็นแนวนอนระบุเว้น 2 ช่อง\n",
        "print(\"\\n\")\n",
        "\n",
        "# Vertical view\n",
        "print(\"Vertical View:\")\n",
        "for i in range(len(stack) - 1, -1, -1): #เริ่มลูป Index สุดท้าย ไป Index แรก คือ len(stack)-1 เป็น จำนวนข้อมูล-1 คือ 5-1 = Index[4], วนจนถึงก่อน Index -1 คือ index[0], ลดลงทีละ -1\n",
        "    print(f\"Index {i}: {stack[i]}\")\n",
        "print(\"\\n\")\n",
        "\n",
        "# Data\n",
        "fruits = ['apple', 'banana', 'orange', 'durian']\n",
        "\n",
        "# Exercise แนวนอน\n",
        "print(\"Horizontal View:\")\n",
        "for index, fruit in enumerate(fruits):\n",
        "    print(f\"ผลไม้ลำดับทีี่ {index} คือ {fruit}\", end=\"  \")\n",
        "print(\"\\n\")\n",
        "\n",
        "# Exercise แนวตั้ง\n",
        "print(\"Vertical View:\")\n",
        "for index in range(len(fruits) - 1, -1, -1):\n",
        "    print(f\"ผลไม้ลำดับทีี่ {index} คือ {fruits[index]}\")\n",
        "print(\"\\n\")"
      ],
      "metadata": {
        "colab": {
          "base_uri": "https://localhost:8080/"
        },
        "id": "uZeWNrIfY9ku",
        "outputId": "c8462758-7637-4f17-aed7-d36952f95677"
      },
      "execution_count": 29,
      "outputs": [
        {
          "output_type": "stream",
          "name": "stdout",
          "text": [
            "Horizontal View:\n",
            "Index 0: 5  Index 1: 10  Index 2: 19  Index 3: 7  Index 4: 8  \n",
            "\n",
            "Vertical View:\n",
            "Index 4: 8\n",
            "Index 3: 7\n",
            "Index 2: 19\n",
            "Index 1: 10\n",
            "Index 0: 5\n",
            "\n",
            "\n",
            "Horizontal View:\n",
            "ผลไม้ลำดับทีี่ 0 คือ apple  ผลไม้ลำดับทีี่ 1 คือ banana  ผลไม้ลำดับทีี่ 2 คือ orange  ผลไม้ลำดับทีี่ 3 คือ durian  \n",
            "\n",
            "Vertical View:\n",
            "ผลไม้ลำดับทีี่ 3 คือ durian\n",
            "ผลไม้ลำดับทีี่ 2 คือ orange\n",
            "ผลไม้ลำดับทีี่ 1 คือ banana\n",
            "ผลไม้ลำดับทีี่ 0 คือ apple\n",
            "\n",
            "\n"
          ]
        }
      ]
    },
    {
      "cell_type": "code",
      "source": [
        "# prompt: เขียนโค้ด push เพิ่มข้อมูลเลข 100 เข้าไปในข้อมูล stack เดิม\n",
        "\n",
        "#สร้าง Stack แนวนอน กับ แนวตั้ง\n",
        "stack = [5, 10, 19, 7, 8]\n",
        "print(f\"Origin stack data = {stack}\\n\")\n",
        "\n",
        "# Push 10 onto the stack\n",
        "stack.append(100)\n",
        "print(f\"After push stack data = {stack}\\n\")\n",
        "\n",
        "# Horizontal view\n",
        "print(\"Horizontal View:\") #เริ่มลูปปกติ Index[0] แรกไปเรื่อย ๆ จนถึงสุดท้าย\n",
        "for i, value in enumerate(stack): #คำสั่ง enumerate เหมือนป้ายกำกับสินค้า เก็บทั้งค่า index และ element\n",
        "    print(f\"Index {i}: {value}\", end=\"  \") # end=\"  \" ต่อเป็นแนวนอนระบุเว้น 2 ช่อง\n",
        "print(\"\\n\")\n",
        "\n",
        "# Vertical view\n",
        "print(\"Vertical View:\")\n",
        "for i in range(len(stack) - 1, -1, -1): #เริ่มลูป Index สุดท้าย ไป Index แรก คือ len(stack)-1 เป็น จำนวนข้อมูล-1 คือ 5-1 = Index[4], วนจนถึงก่อน Index -1 คือ index[0], ลดลงทีละ -1\n",
        "    print(f\"Index {i}: {stack[i]}\")\n",
        "print(\"\\n\")\n",
        "\n",
        "# Data\n",
        "fruits = ['apple', 'banana', 'orange', 'durian']\n",
        "print(f\"Origin fruits data = {fruits}\")\n",
        "\n",
        "#Push()\n",
        "fruits.append('pineapple')\n",
        "print(f\"After push fruits data = {fruits}\")\n",
        "\n",
        "# Exercise แนวนอน\n",
        "print(\"Horizontal View:\")\n",
        "for index, fruit in enumerate(fruits):\n",
        "    print(f\"ผลไม้ลำดับทีี่ {index} คือ {fruit}\", end=\"  \")\n",
        "print(\"\\n\")\n",
        "\n",
        "# Exercise แนวตั้ง\n",
        "print(\"Vertical View:\")\n",
        "for index in range(len(fruits) - 1, -1, -1):\n",
        "    print(f\"ผลไม้ลำดับทีี่ {index} คือ {fruits[index]}\")\n",
        "print(\"\\n\")\n"
      ],
      "metadata": {
        "colab": {
          "base_uri": "https://localhost:8080/"
        },
        "id": "nPPgYgROovlc",
        "outputId": "bcd4d426-323f-44ad-a67a-7e183d0a21f1"
      },
      "execution_count": 41,
      "outputs": [
        {
          "output_type": "stream",
          "name": "stdout",
          "text": [
            "Origin stack data = [5, 10, 19, 7, 8]\n",
            "\n",
            "After push stack data = [5, 10, 19, 7, 8, 100]\n",
            "\n",
            "Horizontal View:\n",
            "Index 0: 5  Index 1: 10  Index 2: 19  Index 3: 7  Index 4: 8  Index 5: 100  \n",
            "\n",
            "Vertical View:\n",
            "Index 5: 100\n",
            "Index 4: 8\n",
            "Index 3: 7\n",
            "Index 2: 19\n",
            "Index 1: 10\n",
            "Index 0: 5\n",
            "\n",
            "\n",
            "Origin fruits data = ['apple', 'banana', 'orange', 'durian']\n",
            "After push fruits data = ['apple', 'banana', 'orange', 'durian', 'pineapple']\n",
            "Horizontal View:\n",
            "ผลไม้ลำดับทีี่ 0 คือ apple  ผลไม้ลำดับทีี่ 1 คือ banana  ผลไม้ลำดับทีี่ 2 คือ orange  ผลไม้ลำดับทีี่ 3 คือ durian  ผลไม้ลำดับทีี่ 4 คือ pineapple  \n",
            "\n",
            "Vertical View:\n",
            "ผลไม้ลำดับทีี่ 4 คือ pineapple\n",
            "ผลไม้ลำดับทีี่ 3 คือ durian\n",
            "ผลไม้ลำดับทีี่ 2 คือ orange\n",
            "ผลไม้ลำดับทีี่ 1 คือ banana\n",
            "ผลไม้ลำดับทีี่ 0 คือ apple\n",
            "\n",
            "\n"
          ]
        }
      ]
    },
    {
      "cell_type": "code",
      "source": [
        "# prompt: เขียนโค้ด pop ลบข้อมูลเลข 100 เข้าไปในข้อมูล stack เดิม\n",
        "\n",
        "#สร้าง Stack แนวนอน กับ แนวตั้ง\n",
        "stack = [5, 10, 19, 7, 8]\n",
        "print(f\"Origin stack data = {stack}\\n\")\n",
        "\n",
        "# Push 100 onto the stack\n",
        "stack.append(100)\n",
        "#stack.append(200) เพิ่ม push ข้อมูลเข้าไป\n",
        "#stack.append(300)\n",
        "#stack.append(400)\n",
        "print(f\"After push stack data = {stack}\\n\")\n",
        "\n",
        "# Pop 100 from the stack\n",
        "if stack:  # Check if the stack is not empty\n",
        "    # แบบ FILO (First In Last Out) เข้าก่อนออกทีหลัง หรือ เข้าทีหลังออกก่อน ใช้ pop() ปกติ\n",
        "    popped_element = stack.pop()\n",
        "    #popped_element = stack.pop() ลบ pop ข้อมูลออกไป\n",
        "    print(f\"Popped element: {popped_element}\")\n",
        "    print(f\"Stack after pop: {stack}\")\n",
        "\n",
        "    # แบบ FIFO (First In First Out) เข้าก่อนออกก่อน ใช้ pop(0)\n",
        "    popped_element = stack.pop(0)\n",
        "    print(f\"Popped element: {popped_element}\")\n",
        "    print(f\"Stack after pop(0): {stack}\")\n",
        "else:\n",
        "    print(\"Stack is empty. Cannot pop.\")\n",
        "\n",
        "# Horizontal view\n",
        "print(\"\\nHorizontal View:\") #เริ่มลูปปกติ Index[0] แรกไปเรื่อย ๆ จนถึงสุดท้าย\n",
        "for i, value in enumerate(stack): #คำสั่ง enumerate เหมือนป้ายกำกับสินค้า เก็บทั้งค่า index และ element\n",
        "    print(f\"Index {i}: {value}\", end=\"  \") # end=\"  \" ต่อเป็นแนวนอนระบุเว้น 2 ช่อง\n",
        "print(\"\\n\")\n",
        "\n",
        "# Vertical view\n",
        "print(\"Vertical View:\")\n",
        "for i in range(len(stack) - 1, -1, -1): #เริ่มลูป Index สุดท้าย ไป Index แรก คือ len(stack)-1 เป็น จำนวนข้อมูล-1 คือ 5-1 = Index[4], วนจนถึงก่อน Index -1 คือ index[0], ลดลงทีละ -1\n",
        "    print(f\"Index {i}: {stack[i]}\")\n",
        "print(\"\\n\")\n"
      ],
      "metadata": {
        "colab": {
          "base_uri": "https://localhost:8080/"
        },
        "id": "5tSnw1wlq4za",
        "outputId": "c186740b-70a6-4874-85db-ed548ad6be0c"
      },
      "execution_count": 57,
      "outputs": [
        {
          "output_type": "stream",
          "name": "stdout",
          "text": [
            "Origin stack data = [5, 10, 19, 7, 8]\n",
            "\n",
            "After push stack data = [5, 10, 19, 7, 8, 100]\n",
            "\n",
            "Popped element: 100\n",
            "Stack after pop: [5, 10, 19, 7, 8]\n",
            "Popped element: 5\n",
            "Stack after pop(0): [10, 19, 7, 8]\n",
            "\n",
            "Horizontal View:\n",
            "Index 0: 10  Index 1: 19  Index 2: 7  Index 3: 8  \n",
            "\n",
            "Vertical View:\n",
            "Index 3: 8\n",
            "Index 2: 7\n",
            "Index 1: 19\n",
            "Index 0: 10\n",
            "\n",
            "\n"
          ]
        }
      ]
    },
    {
      "cell_type": "markdown",
      "source": [
        "# **Exercise: Infix to Postfix**"
      ],
      "metadata": {
        "id": "FH5Ue_AAzz7P"
      }
    },
    {
      "cell_type": "markdown",
      "source": [
        "![image.png](data:image/png;base64,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)"
      ],
      "metadata": {
        "id": "_ThGj8qr266B"
      }
    },
    {
      "cell_type": "code",
      "source": [
        "def infix_to_postfix(equation):\n",
        "    # กำหนดตัวดำเนินการที่รองรับ\n",
        "    operators = ['+', '-', '*', '/']\n",
        "\n",
        "    # กำหนดลำดับความสำคัญของตัวดำเนินการ\n",
        "    Priority = {'+':1, '-':1, '*':2, '/':2, '^':3}\n",
        "\n",
        "    # สร้าง stack สำหรับเก็บตัวดำเนินการ\n",
        "    operator_stack = []\n",
        "\n",
        "    # สร้าง stack สำหรับเก็บผลลัพธ์\n",
        "    output_stack = []\n",
        "\n",
        "    # สร้างตัวแปรสำหรับเก็บผลลัพธ์สุดท้าย\n",
        "    output = ''\n",
        "\n",
        "    # วนลูปผ่านแต่ละตัวอักษรในสมการ\n",
        "    for element in equation:\n",
        "        # ถ้าไม่ใช่ตัวดำเนินการ (เป็นตัวถูกดำเนินการ)\n",
        "        if element not in operators:\n",
        "            output_stack.append(element)\n",
        "        # ถ้าเป็นตัวดำเนินการ\n",
        "        else:\n",
        "            # ตรวจสอบลำดับความสำคัญกับตัวดำเนินการที่อยู่ใน stack\n",
        "            while operator_stack != [] and Priority[element] <= Priority[operator_stack[-1]]:\n",
        "                output_stack.append(operator_stack.pop())\n",
        "            operator_stack.append(element)\n",
        "\n",
        "    # นำตัวดำเนินการที่เหลือใน stack มาต่อท้าย\n",
        "    while operator_stack != []:\n",
        "        output_stack.append(operator_stack.pop())\n",
        "\n",
        "    # รวมผลลัพธ์เป็น string\n",
        "    for each_output in output_stack:\n",
        "        output += each_output\n",
        "\n",
        "    return output\n",
        "\n",
        "# รับ input จากผู้ใช้\n",
        "equation = input('Infix expression : ')\n",
        "\n",
        "# แปลงและแสดงผล\n",
        "output_postfix = infix_to_postfix(equation)\n",
        "print('postfix notation : ', output_postfix)"
      ],
      "metadata": {
        "colab": {
          "base_uri": "https://localhost:8080/"
        },
        "id": "qWHEK4FMv4DQ",
        "outputId": "4deeef2d-b295-41d1-c11e-8e0a63dbc663"
      },
      "execution_count": 5,
      "outputs": [
        {
          "output_type": "stream",
          "name": "stdout",
          "text": [
            "Infix expression : A*B+C/D\n",
            "postfix notation :  AB*CD/+\n"
          ]
        }
      ]
    }
  ]
}