{
  "nbformat": 4,
  "nbformat_minor": 0,
  "metadata": {
    "colab": {
      "provenance": []
    },
    "kernelspec": {
      "name": "python3",
      "display_name": "Python 3"
    },
    "language_info": {
      "name": "python"
    }
  },
  "cells": [
    {
      "cell_type": "markdown",
      "source": [
        "# **Python Arrays**\n",
        "\n",
        "Aj.NesT the Series"
      ],
      "metadata": {
        "id": "Dh4EkPpzI3le"
      }
    },
    {
      "cell_type": "markdown",
      "source": [
        "# **อาร์เรย์แบบ 1 มิติ** **(One Dimensional Array)**"
      ],
      "metadata": {
        "id": "eakiDlDqJZmU"
      }
    },
    {
      "cell_type": "code",
      "execution_count": 12,
      "metadata": {
        "colab": {
          "base_uri": "https://localhost:8080/"
        },
        "id": "YcShrHkxIz2j",
        "outputId": "00281a3b-297a-4116-d4ae-a1fb4800c878"
      },
      "outputs": [
        {
          "output_type": "stream",
          "name": "stdout",
          "text": [
            "[10, 20, 30, 40]\n",
            "10\n",
            "20\n",
            "30\n",
            "40\n",
            "array[0] = 10 \n",
            "array[1] = 20 \n",
            "array[2] = 30 \n",
            "array[3] = 40\n"
          ]
        }
      ],
      "source": [
        "# prompt: การสร้างอาร์เรย์เปล่า เช่น Array = [ ]\n",
        "\n",
        "# Create an empty array (list in Python)\n",
        "my_array = []\n",
        "\n",
        "# You can add elements to the array later:\n",
        "my_array.append(10) # .append(Value) -> เรียกค่าในอาร์เรย์ my_array[index] => 0, 1, 2, 3, ...\n",
        "my_array.append(20)\n",
        "my_array.append(30)\n",
        "my_array.append(40)\n",
        "\n",
        "# Print the array\n",
        "print(my_array)  # Output: [10, 20, 30]\n",
        "print(my_array[0])\n",
        "print(my_array[1])\n",
        "print(my_array[2])\n",
        "print(my_array[3])\n",
        "\n",
        "print(f\"array[0] = {my_array[0]} \\narray[1] = {my_array[1]} \\narray[2] = {my_array[2]} \\narray[3] = {my_array[3]}\")"
      ]
    },
    {
      "cell_type": "code",
      "source": [
        "# prompt: การสร้างอาร์เรย์ที่เก็บตัวเลขจำนวนเต็ม เช่น Array_A = [2] หรือ Array_B = [2,3]\n",
        "\n",
        "# Create arrays\n",
        "Array_A = [2]\n",
        "Array_B = [2, 3]\n",
        "Array_C = [10, 20, 30, 40, 50, 60, 70, 80, 90, 100]\n",
        "\n",
        "# Print the arrays\n",
        "print(Array_A)  # Output: [2]\n",
        "print(Array_B)  # Output: [2, 3]\n",
        "print(Array_B[1])\n",
        "print(f\"Array_C[7] = {Array_C[7]}\")"
      ],
      "metadata": {
        "colab": {
          "base_uri": "https://localhost:8080/"
        },
        "id": "8ZoeExgTOCzi",
        "outputId": "23afd632-a127-40a1-8869-f67bf7f3f750"
      },
      "execution_count": 17,
      "outputs": [
        {
          "output_type": "stream",
          "name": "stdout",
          "text": [
            "[2]\n",
            "[2, 3]\n",
            "3\n",
            "Array_C[7] = 80\n"
          ]
        }
      ]
    },
    {
      "cell_type": "code",
      "source": [
        "# prompt: การสร้างอาร์เรย์ที่เก็บตัวเลขทศนิยม เช่น Array_A = [0.1]\n",
        "\n",
        "# Create an array with a decimal number\n",
        "Array_A = [0.1]\n",
        "\n",
        "# Print the array\n",
        "print(Array_A)  # Output: [0.1]\n",
        "\n",
        "# You can add more decimal numbers to the array\n",
        "Array_A.append(0.5)\n",
        "Array_A.append(1.2)\n",
        "Array_A.append(3.88)\n",
        "\n",
        "# Print the updated array\n",
        "print(Array_A) # Output: [0.1, 0.5, 1.2]\n",
        "\n",
        "# Accessing elements in the array\n",
        "print(f\"Array_A[0] = {Array_A[0]}\") # Output: Array_A[0] = 0.1\n",
        "print(f\"Array_A[1] = {Array_A[1]}\") # Output: Array_A[1] = 0.5\n",
        "print(f\"Array_A[2] = {Array_A[2]}\") # Output: Array_A[2] = 1.2\n",
        "print(f\"Array_A[3] = {Array_A[3]}\")"
      ],
      "metadata": {
        "colab": {
          "base_uri": "https://localhost:8080/"
        },
        "id": "KBdn_tFyPPhY",
        "outputId": "bdaea07f-eefe-494b-f0f4-46acb0b9eeb2"
      },
      "execution_count": 20,
      "outputs": [
        {
          "output_type": "stream",
          "name": "stdout",
          "text": [
            "[0.1]\n",
            "[0.1, 0.5, 1.2, 3.88]\n",
            "Array_A[0] = 0.1\n",
            "Array_A[1] = 0.5\n",
            "Array_A[2] = 1.2\n",
            "Array_A[3] = 3.88\n"
          ]
        }
      ]
    },
    {
      "cell_type": "code",
      "source": [
        "# prompt: การสร้างอาร์เรย์ที่เก็บข้อความ เช่น Array_A = [\"String A\"]\n",
        "\n",
        "# Create an array (list in Python) containing strings\n",
        "Array_A = [\"String A\"]\n",
        "\n",
        "# Print the array\n",
        "print(Array_A)  # Output: ['String A']\n",
        "\n",
        "# Access the first element of the array\n",
        "print(Array_A[0]) # Output: String A\n",
        "\n",
        "# Add more strings to the array\n",
        "Array_A.append(\"String B\")\n",
        "Array_A.append(\"String C\")\n",
        "Array_A.append(\"Hello Python Programming\")\n",
        "\n",
        "# Print the updated array\n",
        "print(Array_A) # Output: ['String A', 'String B', 'String C']\n",
        "\n",
        "# Access other elements\n",
        "print(f\"Array_A[1] = {Array_A[1]}\") # Output: Array_A[1] = String B\n",
        "print(f\"Array_A[2] = {Array_A[2]}\") # Output: Array_A[2] = String C\n",
        "print(f\"Array_A[3] = {Array_A[3]}\")"
      ],
      "metadata": {
        "colab": {
          "base_uri": "https://localhost:8080/"
        },
        "id": "r0LMEzR5QBnW",
        "outputId": "9212c217-ef19-4f0a-ef3e-10abd225711b"
      },
      "execution_count": 23,
      "outputs": [
        {
          "output_type": "stream",
          "name": "stdout",
          "text": [
            "['String A']\n",
            "String A\n",
            "['String A', 'String B', 'String C', 'Hello Python Programming']\n",
            "Array_A[1] = String B\n",
            "Array_A[2] = String C\n",
            "Array_A[3] = Hello Python Programming\n"
          ]
        }
      ]
    },
    {
      "cell_type": "code",
      "source": [
        "# prompt: การสร้างอาร์เรย์ที่เก็บข้อมูลหลายประเภท เช่น Array_A = [1, 3.88, True, \"Three\"]\n",
        "\n",
        "Array_A = [1, 3.88, True, \"Three\"] # List in Python\n",
        "print(Array_A)\n",
        "print(type(Array_A[0])) # type แสดง Data Type\n",
        "print(type(Array_A[1]))\n",
        "print(type(Array_A[2]))\n",
        "print(type(Array_A[3]))\n",
        "print(f\"Integer = {Array_A[0]} \\nFloat = {Array_A[1]} \\nBoolean = {Array_A[2]} \\nString = {Array_A[3]}\")"
      ],
      "metadata": {
        "colab": {
          "base_uri": "https://localhost:8080/"
        },
        "id": "htaCxkJ9RHha",
        "outputId": "f8740a60-4822-4b5e-fcd1-aed693fb9ebb"
      },
      "execution_count": 25,
      "outputs": [
        {
          "output_type": "stream",
          "name": "stdout",
          "text": [
            "[1, 3.88, True, 'Three']\n",
            "<class 'int'>\n",
            "<class 'float'>\n",
            "<class 'bool'>\n",
            "<class 'str'>\n",
            "Integer = 1 \n",
            "Float = 3.88 \n",
            "Boolean = True \n",
            "String = Three\n"
          ]
        }
      ]
    },
    {
      "cell_type": "markdown",
      "source": [
        "# **อาร์เรย์แบบ 2 มิติ (Two Dimensaional Array) (Matrix)**"
      ],
      "metadata": {
        "id": "NjYmA50mSw3y"
      }
    },
    {
      "cell_type": "code",
      "source": [
        "# prompt: การสร้างอาร์เรย์เปล่า 2 มิติ เช่น Array = [ [ ], [ ] ]\n",
        "\n",
        "# Create an empty 2D array (list of lists)\n",
        "Array_2D = [[], [], []]\n",
        "\n",
        "# You can add elements to each inner list\n",
        "Array_2D[0].append(10)\n",
        "Array_2D[0].append(20)\n",
        "Array_2D[0].append(50)\n",
        "Array_2D[1].append(30)\n",
        "Array_2D[1].append(40)\n",
        "Array_2D[1].append(60)\n",
        "Array_2D[2].append(70)\n",
        "Array_2D[2].append(80)\n",
        "Array_2D[2].append(90)\n",
        "\n",
        "# Print the 2D array\n",
        "print(Array_2D)\n",
        "# Output: [[10, 20, 50],\n",
        "#          [30, 40, 60]\n",
        "#          [70, 80, 90]]\n",
        "\n",
        "# Access elements in the 2D array\n",
        "print(Array_2D[0][0]) # Output: 10\n",
        "print(Array_2D[0][1]) # Output: 20\n",
        "print(Array_2D[1][0]) # Output: 30\n",
        "print(Array_2D[1][1]) # Output: 40\n",
        "print(Array_2D[0][2])\n",
        "print(Array_2D[1][2])\n",
        "print(Array_2D[2][0])\n",
        "print(Array_2D[2][1])\n",
        "print(Array_2D[2][2])"
      ],
      "metadata": {
        "colab": {
          "base_uri": "https://localhost:8080/"
        },
        "id": "PvwuzK3oSuWG",
        "outputId": "a67bb35d-2f59-4a8b-814f-ec575a391da6"
      },
      "execution_count": 40,
      "outputs": [
        {
          "output_type": "stream",
          "name": "stdout",
          "text": [
            "[[10, 20, 50], [30, 40, 60], [70, 80, 90]]\n",
            "10\n",
            "20\n",
            "30\n",
            "40\n",
            "50\n",
            "60\n",
            "70\n",
            "80\n",
            "90\n"
          ]
        }
      ]
    },
    {
      "cell_type": "code",
      "source": [
        "# prompt: การสร้างอาร์เรย์ 2 มิติที่เก็บตัวเลขจำนวนเต็ม เช่น\n",
        "#Array_A = [ [1,2,8],\n",
        "#            [3,4,9]]\n",
        "\n",
        "Array_A = [[1, 2, 8], [3, 4, 9]]\n",
        "print(Array_A)\n",
        "print(Array_A[1][2])\n",
        "print(Array_A[1][1])\n",
        "print(f\"Array_A[0][2] = {Array_A[0][2]}\")"
      ],
      "metadata": {
        "colab": {
          "base_uri": "https://localhost:8080/"
        },
        "id": "970RH3MRZabl",
        "outputId": "45885518-320d-46db-b83d-6f8b01a1f51b"
      },
      "execution_count": 47,
      "outputs": [
        {
          "output_type": "stream",
          "name": "stdout",
          "text": [
            "[[1, 2, 8], [3, 4, 9]]\n",
            "9\n",
            "4\n",
            "Array_A[0][2] = 8\n"
          ]
        }
      ]
    },
    {
      "cell_type": "code",
      "source": [
        "# prompt: การสร้างอาร์เรย์ 2 มิติที่เก็บตัวเลขทศนิยม\n",
        "# Array_A = [[0.1, 0.2, 0.3],\n",
        "#            [0.4, 0.5, 0.6]]\n",
        "\n",
        "Array_A = [[0.1, 0.2, 0.3], [0.4, 0.5, 0.6]]\n",
        "print(Array_A)\n",
        "print(Array_A[1][2])\n",
        "print(Array_A[1][0])"
      ],
      "metadata": {
        "colab": {
          "base_uri": "https://localhost:8080/"
        },
        "id": "OqZFz3FJalzN",
        "outputId": "1f65cd5a-40dd-472a-8d4b-0a480c6b4247"
      },
      "execution_count": 51,
      "outputs": [
        {
          "output_type": "stream",
          "name": "stdout",
          "text": [
            "[[0.1, 0.2, 0.3], [0.4, 0.5, 0.6]]\n",
            "0.6\n",
            "0.4\n"
          ]
        }
      ]
    },
    {
      "cell_type": "code",
      "source": [
        "# prompt: การสร้างอาร์เรย์ 2 มิติที่เก็บข้อความ\n",
        "\n",
        "text_array = []\n",
        "text_array.append([\"String A1\", \"String A2, String A3\"])\n",
        "text_array.append([\"String B1\", \"String B2\", \"String B3\"])\n",
        "text_array.append([\"String C1\", \"String C2\", \"String C3\"])\n",
        "\n",
        "print(text_array)\n",
        "print(text_array[1][2])\n",
        "print(text_array[2][1])"
      ],
      "metadata": {
        "colab": {
          "base_uri": "https://localhost:8080/"
        },
        "id": "2qUDU4iGbPKb",
        "outputId": "7a28979f-e23b-42d9-8c5f-0e2dc9e8cdea"
      },
      "execution_count": 55,
      "outputs": [
        {
          "output_type": "stream",
          "name": "stdout",
          "text": [
            "[['String A1', 'String A2, String A3'], ['String B1', 'String B2', 'String B3'], ['String C1', 'String C2', 'String C3']]\n",
            "String B3\n",
            "String C2\n"
          ]
        }
      ]
    },
    {
      "cell_type": "code",
      "source": [
        "# prompt: การสร้างอาร์เรย์ 2 มิติที่เก็บข้อมูลหลายประเภท\n",
        "\n",
        "# Create a 2D array to store mixed data types\n",
        "mixed_2d_array = []\n",
        "\n",
        "# Add rows with different data types\n",
        "mixed_2d_array.append([10, \"hello\", 3.14])\n",
        "mixed_2d_array.append([True, 25, \"world\"])\n",
        "mixed_2d_array.append([False, [1, 2, 3], 9.99])\n",
        "\n",
        "\n",
        "# Print the 2D array\n",
        "print(mixed_2d_array)\n",
        "\n",
        "# Access elements in the 2D array\n",
        "print(mixed_2d_array[0][1])  # Access \"hello\"\n",
        "print(mixed_2d_array[1][0])  # Access True\n",
        "print(mixed_2d_array[2][1])  # Access the list [1, 2, 3]\n",
        "print(mixed_2d_array[2][1][2]) # Access 3 in the nested list\n"
      ],
      "metadata": {
        "colab": {
          "base_uri": "https://localhost:8080/"
        },
        "id": "L6weBCppcJ1j",
        "outputId": "c7ab3788-e2dc-48cb-aa39-4d5f3c94e2a7"
      },
      "execution_count": 60,
      "outputs": [
        {
          "output_type": "stream",
          "name": "stdout",
          "text": [
            "[[10, 'hello', 3.14], [True, 25, 'world'], [False, [1, 2, 3], 9.99]]\n",
            "hello\n",
            "True\n",
            "[1, 2, 3]\n",
            "3\n"
          ]
        }
      ]
    },
    {
      "cell_type": "markdown",
      "source": [
        "# **คำสั่งและฟังก์ชันสำหรับจัดการอาร์เรย์**"
      ],
      "metadata": {
        "id": "FZeqDQqIc6FU"
      }
    },
    {
      "cell_type": "code",
      "source": [
        "# prompt: การใช้ฟังก์ชัน append() เพิ่มข้อมูลต่อท้ายอาร์เรย์ ขอตัวอย่างง่าย ๆ\n",
        "\n",
        "# Example of using append() to add data to the end of an array\n",
        "my_array = [1, 2, 3]\n",
        "print(\"Original array:\", my_array)\n",
        "\n",
        "my_array.append(4)\n",
        "print(\"Array after appending 4:\", my_array)\n",
        "\n",
        "my_array.append(5)\n",
        "print(\"Array after appending 5:\", my_array)\n"
      ],
      "metadata": {
        "colab": {
          "base_uri": "https://localhost:8080/"
        },
        "id": "Y4SenXvadBLv",
        "outputId": "40afefc8-d0e8-4b0e-9548-7613855db2e7"
      },
      "execution_count": 62,
      "outputs": [
        {
          "output_type": "stream",
          "name": "stdout",
          "text": [
            "Original array: [1, 2, 3]\n",
            "Array after appending 4: [1, 2, 3, 4]\n",
            "Array after appending 5: [1, 2, 3, 4, 5]\n"
          ]
        }
      ]
    },
    {
      "cell_type": "code",
      "source": [
        "# prompt: การใช้ฟังก์ชัน clear() ลบข้อมูลทั้งหมดอาร์เรย์ ขอตัวอย่างง่าย ๆ\n",
        "\n",
        "# Example of using clear() to remove all elements from an array\n",
        "my_array = [1, 2, 3, 4, 5]\n",
        "print(\"Original array:\", my_array)\n",
        "\n",
        "my_array.clear()  # Remove all elements\n",
        "print(\"Array after clearing:\", my_array) # Output: []\n",
        "\n",
        "\n",
        "# Example with a 2D array:\n",
        "my_2d_array = [[1, 2, 3], [4, 5, 6], [7, 8, 9]]\n",
        "print(\"Original 2D array:\", my_2d_array)\n",
        "\n",
        "my_2d_array.clear()\n",
        "print(\"2D Array after clearing:\", my_2d_array) # Output: []\n",
        "\n",
        "# Note that clear() removes all elements from the list, making it an empty list.\n",
        "# It doesn't delete the list itself.\n"
      ],
      "metadata": {
        "colab": {
          "base_uri": "https://localhost:8080/"
        },
        "id": "6DPTneCBdiCa",
        "outputId": "567d99bd-a100-4164-f242-7d3656abf95d"
      },
      "execution_count": 63,
      "outputs": [
        {
          "output_type": "stream",
          "name": "stdout",
          "text": [
            "Original array: [1, 2, 3, 4, 5]\n",
            "Array after clearing: []\n",
            "Original 2D array: [[1, 2, 3], [4, 5, 6], [7, 8, 9]]\n",
            "2D Array after clearing: []\n"
          ]
        }
      ]
    },
    {
      "cell_type": "code",
      "source": [
        "# prompt: การใช้ฟังก์ชัน copy() สร้างสำเนาของอาร์เรย์ ขอตัวอย่างง่าย ๆ\n",
        "\n",
        "# Example of using copy() to create a shallow copy of an array\n",
        "original_array = [1, 2, 3, 4, 5]\n",
        "copied_array = original_array.copy()\n",
        "\n",
        "print(\"Original array:\", original_array)\n",
        "print(\"Copied array:\", copied_array)\n",
        "\n",
        "copied_array[0] = 99  # Modify the copied array\n",
        "\n",
        "print(\"Original array after modifying copied array:\", original_array) # Original array remains unchanged\n",
        "print(\"Copied array:\", copied_array) # Only the copy is modified\n",
        "\n",
        "\n",
        "# Example with a 2D array (demonstrates shallow copy behavior)\n",
        "original_2d_array = [[1, 2, 3], [4, 5, 6]]\n",
        "copied_2d_array = original_2d_array.copy()\n",
        "\n",
        "print(\"\\nOriginal 2D array:\", original_2d_array)\n",
        "print(\"Copied 2D array:\", copied_2d_array)\n",
        "\n",
        "copied_2d_array[0][0] = 99  # Modify an element in the nested list\n",
        "copied_2d_array[1][2] = 180\n",
        "\n",
        "print(\"Original 2D array after modifying copied array:\", original_2d_array) # The change is reflected in the original because it's a shallow copy\n",
        "print(\"Copied 2D array:\", copied_2d_array)\n"
      ],
      "metadata": {
        "colab": {
          "base_uri": "https://localhost:8080/"
        },
        "id": "QhauS4ebd-ya",
        "outputId": "43bb36e1-fea9-403a-a4ed-863b41de0f28"
      },
      "execution_count": 65,
      "outputs": [
        {
          "output_type": "stream",
          "name": "stdout",
          "text": [
            "Original array: [1, 2, 3, 4, 5]\n",
            "Copied array: [1, 2, 3, 4, 5]\n",
            "Original array after modifying copied array: [1, 2, 3, 4, 5]\n",
            "Copied array: [99, 2, 3, 4, 5]\n",
            "\n",
            "Original 2D array: [[1, 2, 3], [4, 5, 6]]\n",
            "Copied 2D array: [[1, 2, 3], [4, 5, 6]]\n",
            "Original 2D array after modifying copied array: [[99, 2, 3], [4, 5, 180]]\n",
            "Copied 2D array: [[99, 2, 3], [4, 5, 180]]\n"
          ]
        }
      ]
    },
    {
      "cell_type": "code",
      "source": [
        "# prompt: การใช้ฟังก์ชัน count() นับจำนวนครั้งที่ข้อมูลปรากฎในอาร์เรย์ ขอตัวอย่างง่าย ๆ\n",
        "\n",
        "# Example of using count() to count the occurrences of an element in an array\n",
        "\n",
        "my_array = [1, 2, 2, 3, 4, 2, 5]\n",
        "count_of_2 = my_array.count(2)  # Count how many times the number 2 appears in the array\n",
        "print(f\"The number 2 appears {count_of_2} times in the array.\")\n",
        "\n",
        "\n",
        "my_string_array = [\"apple\", \"banana\", \"apple\", \"orange\", \"apple\", \"apple\"]\n",
        "count_of_apple = my_string_array.count(\"apple\")\n",
        "print(f\"The string 'apple' appears {count_of_apple} times in the array.\")\n",
        "\n",
        "my_mixed_array = [1, \"apple\", 2.5, \"apple\", True, \"apple\"]\n",
        "count_of_apple_mixed = my_mixed_array.count(\"apple\") # only counts the string \"apple\"\n",
        "print(f\"The string 'apple' appears {count_of_apple_mixed} times in the mixed array.\")\n",
        "\n"
      ],
      "metadata": {
        "colab": {
          "base_uri": "https://localhost:8080/"
        },
        "id": "M6HDgDc9fJ4f",
        "outputId": "f1b19b8b-28ef-4faf-e8c4-8851529b2ae5"
      },
      "execution_count": 67,
      "outputs": [
        {
          "output_type": "stream",
          "name": "stdout",
          "text": [
            "The number 2 appears 3 times in the array.\n",
            "The string 'apple' appears 4 times in the array.\n",
            "The string 'apple' appears 3 times in the mixed array.\n"
          ]
        }
      ]
    },
    {
      "cell_type": "code",
      "source": [
        "# prompt: การใช้ฟังก์ชัน index() หาตำแหน่งของข้อมูลในอาร์เรย์ ขอตัวอย่างง่าย ๆ\n",
        "\n",
        "# Example array\n",
        "my_array = [10, 20, 30, 40, 20, 10]\n",
        "\n",
        "# Find the index of the first occurrence of 20\n",
        "index_of_20 = my_array.index(20)\n",
        "print(f\"The index of the first occurrence of 20 is: {index_of_20}\")  # Output: 1\n",
        "\n",
        "# Find the index of the first occurrence of 10\n",
        "index_of_10 = my_array.index(10)\n",
        "print(f\"The index of the first occurrence of 10 is: {index_of_10}\")  # Output: 0\n",
        "\n",
        "index_of_40 = my_array.index(40)\n",
        "print(f\"The index of the first occurrence of 40 is: {index_of_40}\")\n",
        "\n",
        "# Try to find the index of an element that is not in the array\n",
        "try:\n",
        "    index_of_50 = my_array.index(50)\n",
        "    print(f\"The index of 50 is: {index_of_50}\")\n",
        "except ValueError:\n",
        "    print(\"Value 50 is not found in the array.\")\n"
      ],
      "metadata": {
        "colab": {
          "base_uri": "https://localhost:8080/"
        },
        "id": "XZWvBJJef1SP",
        "outputId": "d9119225-b79c-41d1-a0d5-e13945f146dc"
      },
      "execution_count": 69,
      "outputs": [
        {
          "output_type": "stream",
          "name": "stdout",
          "text": [
            "The index of the first occurrence of 20 is: 1\n",
            "The index of the first occurrence of 10 is: 0\n",
            "The index of the first occurrence of 40 is: 3\n",
            "Value 50 is not found in the array.\n"
          ]
        }
      ]
    },
    {
      "cell_type": "code",
      "source": [
        "# prompt: การใช้ฟังก์ชัน insert() แทรกข้อมูลที่ตำแหน่งที่ต้องการ ขอตัวอย่างง่าย ๆ\n",
        "\n",
        "# Example of using insert() to add data at a specific position in an array\n",
        "my_array = [1, 2, 3, 4, 5]\n",
        "print(\"Original array:\", my_array)\n",
        "\n",
        "my_array.insert(2, 99)  # Insert 99 at index 2 (position 3)\n",
        "print(\"Array after inserting 99 at index 2:\", my_array)\n",
        "\n",
        "my_array.insert(0, 100) # Insert 100 at index 0 (the beginning of the array)\n",
        "print(\"Array after inserting 100 at index 0:\", my_array)\n",
        "\n",
        "my_array.insert(len(my_array), 200) # Insert at the end\n",
        "print(\"Array after inserting 200 at the end:\", my_array)\n"
      ],
      "metadata": {
        "colab": {
          "base_uri": "https://localhost:8080/"
        },
        "id": "nJQK8PNcgVNg",
        "outputId": "11565e7f-7e1b-445a-d86d-33782b0e06a0"
      },
      "execution_count": 70,
      "outputs": [
        {
          "output_type": "stream",
          "name": "stdout",
          "text": [
            "Original array: [1, 2, 3, 4, 5]\n",
            "Array after inserting 99 at index 2: [1, 2, 99, 3, 4, 5]\n",
            "Array after inserting 100 at index 0: [100, 1, 2, 99, 3, 4, 5]\n",
            "Array after inserting 200 at the end: [100, 1, 2, 99, 3, 4, 5, 200]\n"
          ]
        }
      ]
    },
    {
      "cell_type": "code",
      "source": [
        "# prompt: การใช้ฟังก์ชัน len() หาความยาวของอาร์เรย์ ขอตัวอย่างง่าย ๆ\n",
        "\n",
        "# Example arrays\n",
        "array1 = [1, 2, 3, 4, 5]\n",
        "array2 = [\"apple\", \"banana\", \"cherry\"]\n",
        "array3 = []  # Empty array\n",
        "\n",
        "# Using len() to find the length of arrays\n",
        "length1 = len(array1)\n",
        "length2 = len(array2)\n",
        "length3 = len(array3)\n",
        "\n",
        "print(f\"The length of array1 is: {length1}\")  # Output: 5\n",
        "print(f\"The length of array2 is: {length2}\")  # Output: 3\n",
        "print(f\"The length of array3 is: {length3}\")  # Output: 0\n"
      ],
      "metadata": {
        "colab": {
          "base_uri": "https://localhost:8080/"
        },
        "id": "8gb4uReIhCic",
        "outputId": "c64eb3f9-59c4-49e6-be26-f01886a8e382"
      },
      "execution_count": 71,
      "outputs": [
        {
          "output_type": "stream",
          "name": "stdout",
          "text": [
            "The length of array1 is: 5\n",
            "The length of array2 is: 3\n",
            "The length of array3 is: 0\n"
          ]
        }
      ]
    },
    {
      "cell_type": "code",
      "source": [
        "# prompt: การใช้ฟังก์ชัน extend() รวมอาร์เรย์สองตัวเข้าด้วยกัน ขอตัวอย่างง่าย ๆ\n",
        "\n",
        "# Example of using extend() to combine two arrays\n",
        "array1 = [1, 2, 3]\n",
        "array2 = [4, 5, 6]\n",
        "\n",
        "array1.extend(array2)  # Add elements of array2 to the end of array1\n",
        "\n",
        "print(\"Combined array:\", array1)  # Output: [1, 2, 3, 4, 5, 6]\n",
        "\n",
        "# Example with different data types\n",
        "array3 = [\"a\", \"b\", \"c\"]\n",
        "array4 = [10, 20, 30]\n",
        "\n",
        "array3.extend(array4)\n",
        "print(\"Combined array:\", array3)  # Output: ['a', 'b', 'c', 10, 20, 30]\n"
      ],
      "metadata": {
        "colab": {
          "base_uri": "https://localhost:8080/"
        },
        "id": "AreE_GMDhSd3",
        "outputId": "5a12527f-4fd5-46fd-f279-0b06874e0830"
      },
      "execution_count": 72,
      "outputs": [
        {
          "output_type": "stream",
          "name": "stdout",
          "text": [
            "Combined array: [1, 2, 3, 4, 5, 6]\n",
            "Combined array: ['a', 'b', 'c', 10, 20, 30]\n"
          ]
        }
      ]
    },
    {
      "cell_type": "code",
      "source": [
        "# prompt: การใช้ฟังก์ชัน pop() ลบข้อมูลตามตำแหน่งที่ระบุ ขอตัวอย่างง่าย ๆ\n",
        "\n",
        "# Example of using pop() to remove and return an element at a specific index\n",
        "\n",
        "my_array = [10, 20, 30, 40, 50]\n",
        "print(\"Original array:\", my_array)\n",
        "\n",
        "# Remove and return the element at index 2 (the third element, 30)\n",
        "removed_element = my_array.pop(2)\n",
        "print(\"Removed element:\", removed_element)\n",
        "print(\"Array after pop(2):\", my_array)  # Output: [10, 20, 40, 50]\n",
        "\n",
        "# Remove and return the element at index 0 (the first element, 10)\n",
        "removed_element = my_array.pop(0)\n",
        "print(\"Removed element:\", removed_element)\n",
        "print(\"Array after pop(0):\", my_array)  # Output: [20, 40, 50]\n",
        "\n",
        "# If you don't provide an index, pop() removes and returns the last element\n",
        "removed_element = my_array.pop()\n",
        "print(\"Removed element:\", removed_element)  # Output: 50\n",
        "print(\"Array after pop():\", my_array) # Output: [20, 40]\n"
      ],
      "metadata": {
        "colab": {
          "base_uri": "https://localhost:8080/"
        },
        "id": "iASefzJghqOK",
        "outputId": "6df1e3ba-e0e3-4f92-bb83-5d4fd24dc8dc"
      },
      "execution_count": 73,
      "outputs": [
        {
          "output_type": "stream",
          "name": "stdout",
          "text": [
            "Original array: [10, 20, 30, 40, 50]\n",
            "Removed element: 30\n",
            "Array after pop(2): [10, 20, 40, 50]\n",
            "Removed element: 10\n",
            "Array after pop(0): [20, 40, 50]\n",
            "Removed element: 50\n",
            "Array after pop(): [20, 40]\n"
          ]
        }
      ]
    },
    {
      "cell_type": "code",
      "source": [
        "# prompt: การใช้ฟังก์ชัน remove() ลบข้อมูลตามค่าที่ระบุ ขอตัวอย่างง่าย ๆ\n",
        "\n",
        "# Example of using remove() to delete an element by value\n",
        "\n",
        "my_array = [10, 20, 30, 20, 40, 50]\n",
        "print(\"Original array:\", my_array)\n",
        "\n",
        "# Remove the first occurrence of 20\n",
        "my_array.remove(20)\n",
        "print(\"Array after removing 20:\", my_array)  # Output: [10, 30, 20, 40, 50]\n",
        "\n",
        "# Remove another occurrence of 20\n",
        "my_array.remove(20)\n",
        "print(\"Array after removing another 20:\", my_array) # Output: [10, 30, 40, 50]\n",
        "\n",
        "\n",
        "# Try to remove an element that doesn't exist\n",
        "try:\n",
        "    my_array.remove(60)\n",
        "except ValueError:\n",
        "    print(\"Value 60 is not found in the array.\")\n",
        "\n",
        "# Example with strings\n",
        "string_array = [\"apple\", \"banana\", \"cherry\", \"apple\"]\n",
        "print(\"\\nOriginal string array:\", string_array)\n",
        "string_array.remove(\"apple\")  # Removes the first occurrence of \"apple\"\n",
        "print(\"String array after removing 'apple':\", string_array) # Output: ['banana', 'cherry', 'apple']\n",
        "\n",
        "# Example with mixed data types\n",
        "mixed_array = [1, \"hello\", 3.14, True, \"hello\"]\n",
        "print(\"\\nOriginal mixed array:\", mixed_array)\n",
        "mixed_array.remove(\"hello\") # Removes the first occurrence of \"hello\"\n",
        "print(\"Mixed array after removing 'hello':\", mixed_array) # Output: [1, 3.14, True, 'hello']\n"
      ],
      "metadata": {
        "colab": {
          "base_uri": "https://localhost:8080/"
        },
        "id": "sIb-mWrviI7J",
        "outputId": "cae84892-c00f-44fc-e92a-5f1b35f4ec50"
      },
      "execution_count": 74,
      "outputs": [
        {
          "output_type": "stream",
          "name": "stdout",
          "text": [
            "Original array: [10, 20, 30, 20, 40, 50]\n",
            "Array after removing 20: [10, 30, 20, 40, 50]\n",
            "Array after removing another 20: [10, 30, 40, 50]\n",
            "Value 60 is not found in the array.\n",
            "\n",
            "Original string array: ['apple', 'banana', 'cherry', 'apple']\n",
            "String array after removing 'apple': ['banana', 'cherry', 'apple']\n",
            "\n",
            "Original mixed array: [1, 'hello', 3.14, True, 'hello']\n",
            "Mixed array after removing 'hello': [1, 3.14, True, 'hello']\n"
          ]
        }
      ]
    },
    {
      "cell_type": "code",
      "source": [
        "# prompt: การใช้ฟังก์ชัน reverse() กลับลำดับข้อมูลในอาร์เรย์ ขอตัวอย่างง่าย ๆ\n",
        "\n",
        "# Example of using reverse() to reverse the order of elements in an array\n",
        "my_array = [1, 2, 3, 4, 5]\n",
        "print(\"Original array:\", my_array)\n",
        "\n",
        "my_array.reverse()  # Reverse the array in-place\n",
        "print(\"Reversed array:\", my_array)  # Output: [5, 4, 3, 2, 1]\n",
        "\n",
        "# Example with strings\n",
        "string_array = [\"apple\", \"banana\", \"cherry\"]\n",
        "print(\"\\nOriginal string array:\", string_array)\n",
        "string_array.reverse()\n",
        "print(\"Reversed string array:\", string_array)  # Output: ['cherry', 'banana', 'apple']\n",
        "\n",
        "# Example with mixed data types\n",
        "mixed_array = [1, \"hello\", 3.14, True]\n",
        "print(\"\\nOriginal mixed array:\", mixed_array)\n",
        "mixed_array.reverse()\n",
        "print(\"Reversed mixed array:\", mixed_array)  # Output: [True, 3.14, \"hello\", 1]\n",
        "\n",
        "\n",
        "# Example with a 2D array (reverses the order of sublists, not elements within)\n",
        "my_2d_array = [[1, 2, 3], [4, 5, 6], [7, 8, 9]]\n",
        "print(\"\\nOriginal 2D array:\", my_2d_array)\n",
        "my_2d_array.reverse()\n",
        "print(\"Reversed 2D array:\", my_2d_array) # Output: [[7, 8, 9], [4, 5, 6], [1, 2, 3]]\n"
      ],
      "metadata": {
        "colab": {
          "base_uri": "https://localhost:8080/"
        },
        "id": "oTasmfNCiiu8",
        "outputId": "942412bf-1f51-41e8-b4d2-87b29d4edeb4"
      },
      "execution_count": 75,
      "outputs": [
        {
          "output_type": "stream",
          "name": "stdout",
          "text": [
            "Original array: [1, 2, 3, 4, 5]\n",
            "Reversed array: [5, 4, 3, 2, 1]\n",
            "\n",
            "Original string array: ['apple', 'banana', 'cherry']\n",
            "Reversed string array: ['cherry', 'banana', 'apple']\n",
            "\n",
            "Original mixed array: [1, 'hello', 3.14, True]\n",
            "Reversed mixed array: [True, 3.14, 'hello', 1]\n",
            "\n",
            "Original 2D array: [[1, 2, 3], [4, 5, 6], [7, 8, 9]]\n",
            "Reversed 2D array: [[7, 8, 9], [4, 5, 6], [1, 2, 3]]\n"
          ]
        }
      ]
    },
    {
      "cell_type": "code",
      "source": [
        "# prompt: การใช้ฟังก์ชัน sort() เรียงลำดับข้อมูลในอาร์เรย์ ขอตัวอย่างง่าย ๆ\n",
        "\n",
        "# Example of using sort() to sort elements in an array\n",
        "my_array = [3, 1, 4, 1, 5, 9, 2, 6]\n",
        "print(\"Original array:\", my_array)\n",
        "\n",
        "my_array.sort()  # Sort the array in ascending order (in-place)\n",
        "print(\"Sorted array (ascending):\", my_array)  # Output: [1, 1, 2, 3, 4, 5, 6, 9]\n",
        "\n",
        "my_array.sort(reverse=True) # Sort in descending order\n",
        "print(\"Sorted array (descending):\", my_array) # Output: [9, 6, 5, 4, 3, 2, 1, 1]\n",
        "\n",
        "# Example with strings\n",
        "string_array = [\"banana\", \"apple\", \"cherry\", \"date\"]\n",
        "print(\"\\nOriginal string array:\", string_array)\n",
        "\n",
        "string_array.sort() # sorts strings alphabetically\n",
        "print(\"Sorted string array:\", string_array)\n",
        "\n",
        "string_array.sort(reverse = True) # sorts strings alphabetically in reverse order\n",
        "print(\"Sorted string array (descending):\", string_array)\n",
        "\n",
        "\n",
        "# Example with mixed data types (will result in a TypeError)\n",
        "# mixed_array = [1, \"hello\", 3.14, True]\n",
        "# mixed_array.sort()  # This will cause an error because you can't compare numbers and strings\n",
        "\n",
        "\n",
        "# Sorting a 2D array (sorts the sublists based on the first element)\n",
        "my_2d_array = [[3, 5], [1, 8], [2, 9]]\n",
        "print(\"\\nOriginal 2D array:\", my_2d_array)\n",
        "\n",
        "my_2d_array.sort()  # Sorts the sublists based on the first element of each sublist.\n",
        "print(\"Sorted 2D array:\", my_2d_array) # Output: [[1, 8], [2, 9], [3, 5]]"
      ],
      "metadata": {
        "colab": {
          "base_uri": "https://localhost:8080/"
        },
        "id": "nD3MTS4gi2C2",
        "outputId": "0558af9b-6a41-41ca-e102-ae4d6ec8f832"
      },
      "execution_count": 82,
      "outputs": [
        {
          "output_type": "stream",
          "name": "stdout",
          "text": [
            "Original array: [3, 1, 4, 1, 5, 9, 2, 6]\n",
            "Sorted array (ascending): [1, 1, 2, 3, 4, 5, 6, 9]\n",
            "Sorted array (descending): [9, 6, 5, 4, 3, 2, 1, 1]\n",
            "\n",
            "Original string array: ['banana', 'apple', 'cherry', 'date']\n",
            "Sorted string array: ['apple', 'banana', 'cherry', 'date']\n",
            "Sorted string array (descending): ['date', 'cherry', 'banana', 'apple']\n",
            "\n",
            "Original 2D array: [[3, 5], [1, 8], [2, 9]]\n",
            "Sorted 2D array: [[1, 8], [2, 9], [3, 5]]\n"
          ]
        }
      ]
    }
  ]
}