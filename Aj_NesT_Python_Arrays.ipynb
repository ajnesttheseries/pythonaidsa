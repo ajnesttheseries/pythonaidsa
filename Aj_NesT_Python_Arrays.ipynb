{
  "nbformat": 4,
  "nbformat_minor": 0,
  "metadata": {
    "colab": {
      "provenance": []
    },
    "kernelspec": {
      "name": "python3",
      "display_name": "Python 3"
    },
    "language_info": {
      "name": "python"
    }
  },
  "cells": [
    {
      "cell_type": "markdown",
      "source": [
        "# **Python Arrays**\n",
        "\n",
        "Aj.NesT the Series"
      ],
      "metadata": {
        "id": "r6nrks2gyFxa"
      }
    },
    {
      "cell_type": "code",
      "source": [],
      "metadata": {
        "id": "QV5Ti4sjzKJP"
      },
      "execution_count": null,
      "outputs": []
    },
    {
      "cell_type": "markdown",
      "source": [
        "# อาร์เรย์แบบ 1 มิติ"
      ],
      "metadata": {
        "id": "OwMfdGx7zGMi"
      }
    },
    {
      "cell_type": "code",
      "execution_count": null,
      "metadata": {
        "colab": {
          "base_uri": "https://localhost:8080/"
        },
        "id": "ptuzKKJHx8Gy",
        "outputId": "8296a217-a1b6-4fce-a06a-a2b3cd165371"
      },
      "outputs": [
        {
          "output_type": "stream",
          "name": "stdout",
          "text": [
            "[10, 20, 30]\n",
            "30\n",
            "array[0] = 10 \n",
            "array[1] = 20 \n",
            "array[2] = 30\n"
          ]
        }
      ],
      "source": [
        "# prompt: การสร้างอาร์เรย์เปล่า เช่น Array = []\n",
        "\n",
        "# Create an empty array (list in Python)\n",
        "my_array = []\n",
        "\n",
        "# You can then add elements to the array:\n",
        "my_array.append(10)\n",
        "my_array.append(20)\n",
        "my_array.append(30)\n",
        "\n",
        "print(my_array)  # Output: [10, 20, 30]\n",
        "print(my_array[2])\n",
        "print(f\"array[0] = {my_array[0]} \\narray[1] = {my_array[1]} \\narray[2] = {my_array[2]}\")"
      ]
    },
    {
      "cell_type": "code",
      "source": [
        "# prompt: การสร้างอาร์เรย์ที่เก็บตัวเลขจำนวนเต็ม เช่น Array_A = [2] หรือ Array_B = [2,3]\n",
        "\n",
        "# Create arrays (lists in Python)\n",
        "Array_A = [2]\n",
        "Array_B = [2, 3]\n",
        "\n",
        "# Print the arrays\n",
        "print(Array_A)\n",
        "print(Array_B)\n",
        "print(Array_B[1])"
      ],
      "metadata": {
        "colab": {
          "base_uri": "https://localhost:8080/"
        },
        "id": "g3dVwjFCyWWW",
        "outputId": "c8048827-c643-446d-8a5c-d1baac298fda"
      },
      "execution_count": null,
      "outputs": [
        {
          "output_type": "stream",
          "name": "stdout",
          "text": [
            "[2]\n",
            "[2, 3]\n",
            "3\n"
          ]
        }
      ]
    },
    {
      "cell_type": "code",
      "source": [
        "# prompt: การสร้างอาร์เรย์ที่เก็บตัวเลขทศนิยม เช่น Array_A = [0.1]\n",
        "\n",
        "# Create an array (list in Python) with a decimal number\n",
        "Array_A = [0.1]\n",
        "\n",
        "# Print the array\n",
        "print(Array_A)\n",
        "\n",
        "# You can add more decimal numbers to the array\n",
        "Array_A.append(0.5)\n",
        "Array_A.append(1.2)\n",
        "\n",
        "# Print the updated array\n",
        "print(Array_A)\n",
        "print(f\"array[2] = {Array_A[2]}\")"
      ],
      "metadata": {
        "colab": {
          "base_uri": "https://localhost:8080/"
        },
        "id": "ndCKmn5cycvE",
        "outputId": "bdff831c-d97e-402b-d989-fbc591c5ae76"
      },
      "execution_count": null,
      "outputs": [
        {
          "output_type": "stream",
          "name": "stdout",
          "text": [
            "[0.1]\n",
            "[0.1, 0.5, 1.2]\n",
            "array[2] = 1.2\n"
          ]
        }
      ]
    },
    {
      "cell_type": "code",
      "source": [
        "# prompt: การสร้างอาร์เรย์ที่เก็บข้อความ เช่น Array_A = [\"String A\"]\n",
        "\n",
        "# Create an array (list in Python) to store text\n",
        "Array_A = [\"String A\"]\n",
        "\n",
        "# Print the array\n",
        "print(Array_A)\n",
        "\n",
        "# You can add more strings to the array\n",
        "Array_A.append(\"String B\")\n",
        "Array_A.append(\"String C\")\n",
        "\n",
        "# Print the updated array\n",
        "print(Array_A)"
      ],
      "metadata": {
        "colab": {
          "base_uri": "https://localhost:8080/"
        },
        "id": "lCy2QVgbyj00",
        "outputId": "0bba7d5d-9651-47a2-a62e-bfb6a7ab616e"
      },
      "execution_count": null,
      "outputs": [
        {
          "output_type": "stream",
          "name": "stdout",
          "text": [
            "['String A']\n",
            "['String A', 'String B', 'String C']\n"
          ]
        }
      ]
    },
    {
      "cell_type": "code",
      "source": [
        "# prompt: การสร้างอาร์เรย์ที่เก็บข้อมูลหลายประเภท เช่น Array_A = [1, True, \"Three\"]\n",
        "\n",
        "# Create an array (list in Python) to store mixed data types\n",
        "Array_A = [1, True, \"Three\"]\n",
        "\n",
        "# Print the array\n",
        "print(Array_A)"
      ],
      "metadata": {
        "colab": {
          "base_uri": "https://localhost:8080/"
        },
        "id": "Nqv6UuvGyosQ",
        "outputId": "b4ccbee9-0dd3-4328-9692-06916abb2e20"
      },
      "execution_count": null,
      "outputs": [
        {
          "output_type": "stream",
          "name": "stdout",
          "text": [
            "[1, True, 'Three']\n"
          ]
        }
      ]
    },
    {
      "cell_type": "markdown",
      "source": [
        "# อาร์เรย์แบบ 2 มิติ (Matrix)"
      ],
      "metadata": {
        "id": "iHTjXMvCzTEy"
      }
    },
    {
      "cell_type": "code",
      "source": [
        "# prompt: การสร้างอาร์เรย์เปล่า 2 มิติ เช่น Array = [[],[]]\n",
        "\n",
        "# Create an empty 2D array (list of lists in Python)\n",
        "Array = [[], []]\n",
        "\n",
        "# Print the 2D array\n",
        "print(Array)"
      ],
      "metadata": {
        "colab": {
          "base_uri": "https://localhost:8080/"
        },
        "id": "zZcoZLiBytta",
        "outputId": "46ecbc79-c20c-40c6-dd04-48656d0d969c"
      },
      "execution_count": null,
      "outputs": [
        {
          "output_type": "stream",
          "name": "stdout",
          "text": [
            "[[], []]\n"
          ]
        }
      ]
    },
    {
      "cell_type": "code",
      "source": [
        "# prompt: การสร้างอาร์เรย์ 2 มิติที่เก็บตัวเลขจำนวนเต็ม เช่น Array_A = [[1,2],[3,4]]\n",
        "\n",
        "# Create a 2D array (list of lists in Python)\n",
        "Array_A = [[1, 2],\n",
        "           [3, 4]]\n",
        "# Print the 2D array\n",
        "print(Array_A)\n",
        "print(Array_A[1][1])\n",
        "print(f\"array[1][0] = {Array_A[1][0]}\")"
      ],
      "metadata": {
        "colab": {
          "base_uri": "https://localhost:8080/"
        },
        "id": "hmzpBiGwyypC",
        "outputId": "26c0f1ad-fc4e-47ff-8c61-e2697024acc9"
      },
      "execution_count": null,
      "outputs": [
        {
          "output_type": "stream",
          "name": "stdout",
          "text": [
            "[[1, 2], [3, 4]]\n",
            "4\n",
            "array[1][0] = 3\n"
          ]
        }
      ]
    },
    {
      "cell_type": "code",
      "source": [
        "# prompt: การสร้างอาร์เรย์ 2 มิติที่เก็บตัวเลขทศนิยม\n",
        "\n",
        "# Create an empty 2D array (list of lists in Python) to store decimal numbers\n",
        "decimal_array = []\n",
        "\n",
        "# Add rows to the 2D array\n",
        "decimal_array.append([1.1, 2.2, 3.3])\n",
        "decimal_array.append([4.4, 5.5, 6.6])\n",
        "decimal_array.append([7.7, 8.8, 9.9])\n",
        "\n",
        "# Print the 2D array\n",
        "print(decimal_array)"
      ],
      "metadata": {
        "colab": {
          "base_uri": "https://localhost:8080/"
        },
        "id": "oLijhyZjy3IS",
        "outputId": "3a98ab81-3c51-4850-c82e-833e51aca189"
      },
      "execution_count": null,
      "outputs": [
        {
          "output_type": "stream",
          "name": "stdout",
          "text": [
            "[[1.1, 2.2, 3.3], [4.4, 5.5, 6.6], [7.7, 8.8, 9.9]]\n"
          ]
        }
      ]
    },
    {
      "cell_type": "code",
      "source": [
        "# prompt: การสร้างอาร์เรย์ 2 มิติที่เก็บข้อความ\n",
        "\n",
        "# Create an empty 2D array (list of lists in Python) to store text\n",
        "text_array = []\n",
        "\n",
        "# Add rows to the 2D array\n",
        "text_array.append([\"String A1\", \"String A2\", \"String A3\"])\n",
        "text_array.append([\"String B1\", \"String B2\", \"String B3\"])\n",
        "text_array.append([\"String C1\", \"String C2\", \"String C3\"])\n",
        "\n",
        "# Print the 2D array\n",
        "print(text_array)"
      ],
      "metadata": {
        "colab": {
          "base_uri": "https://localhost:8080/"
        },
        "id": "CX0ogCmWy8Ow",
        "outputId": "c68426e4-b66a-4566-913d-d04904245f4a"
      },
      "execution_count": null,
      "outputs": [
        {
          "output_type": "stream",
          "name": "stdout",
          "text": [
            "[['String A1', 'String A2', 'String A3'], ['String B1', 'String B2', 'String B3'], ['String C1', 'String C2', 'String C3']]\n"
          ]
        }
      ]
    },
    {
      "cell_type": "code",
      "source": [
        "# prompt: การสร้างอาร์เรย์ 2 มิติที่เก็บข้อมูลหลายประเภท\n",
        "\n",
        "# Create an empty 2D array (list of lists in Python) to store mixed data types\n",
        "mixed_array = []\n",
        "\n",
        "# Add rows with mixed data types\n",
        "mixed_array.append([1, \"one\", True])\n",
        "mixed_array.append([2.5, \"two point five\", False])\n",
        "mixed_array.append([3, \"three\", True])\n",
        "\n",
        "# Print the 2D array\n",
        "print(mixed_array)"
      ],
      "metadata": {
        "colab": {
          "base_uri": "https://localhost:8080/"
        },
        "id": "pGvu-DAYzAV6",
        "outputId": "da955c77-f84c-4470-8f66-ffddc86e3fa3"
      },
      "execution_count": null,
      "outputs": [
        {
          "output_type": "stream",
          "name": "stdout",
          "text": [
            "[[1, 'one', True], [2.5, 'two point five', False], [3, 'three', True]]\n"
          ]
        }
      ]
    },
    {
      "cell_type": "markdown",
      "source": [
        "# คำสั่งและฟังก์ชันสำหรับจัดการอาร์เรย์"
      ],
      "metadata": {
        "id": "BWHzYNAYoKN-"
      }
    },
    {
      "cell_type": "code",
      "source": [
        "# prompt: ตัวอย่างการใช้คำสั่ง append() เพิ่มข้อมูลต่อท้ายอาร์เรย์\n",
        "\n",
        "# Example of using append() to add elements to the end of an array\n",
        "\n",
        "# Create an empty list (array in other languages)\n",
        "my_list = []\n",
        "\n",
        "# Append elements to the list\n",
        "my_list.append(10)\n",
        "my_list.append(20)\n",
        "my_list.append(30)\n",
        "\n",
        "# Print the list\n",
        "print(my_list)  # Output: [10, 20, 30]\n",
        "\n",
        "# Append a string to the list\n",
        "my_list.append(\"hello\")\n",
        "print(my_list) # Output: [10, 20, 30, \"hello\"]\n",
        "\n",
        "# Append another list to the list\n",
        "my_list.append([40, 50])\n",
        "print(my_list) # Output: [10, 20, 30, \"hello\", [40,50]]\n",
        "\n",
        "# Access elements in the list\n",
        "print(my_list[0])  # Output: 10\n",
        "print(my_list[3]) # Output: hello\n",
        "print(my_list[-1]) # Output: [40,50]  (Negative index accesses elements from the end)\n",
        "\n",
        "# Accessing elements in the nested list\n",
        "print(my_list[-1][0]) # Output: 40\n",
        "\n",
        "# Demonstrating the difference between append and extend\n",
        "my_list_2 = [1, 2, 3]\n",
        "my_list_2.append([4, 5])  # Appends the entire list as a single element\n",
        "print(my_list_2) # Output: [1, 2, 3, [4, 5]]\n",
        "\n",
        "my_list_3 = [1, 2, 3]\n",
        "my_list_3.extend([4, 5]) # Extends the list by adding elements individually\n",
        "print(my_list_3) # Output: [1, 2, 3, 4, 5]\n"
      ],
      "metadata": {
        "colab": {
          "base_uri": "https://localhost:8080/"
        },
        "id": "IHtEyhJkoN5b",
        "outputId": "c0e30cd1-af9d-4614-c304-f262cdf9d2de"
      },
      "execution_count": null,
      "outputs": [
        {
          "output_type": "stream",
          "name": "stdout",
          "text": [
            "[10, 20, 30]\n",
            "[10, 20, 30, 'hello']\n",
            "[10, 20, 30, 'hello', [40, 50]]\n",
            "10\n",
            "hello\n",
            "[40, 50]\n",
            "40\n",
            "[1, 2, 3, [4, 5]]\n",
            "[1, 2, 3, 4, 5]\n"
          ]
        }
      ]
    },
    {
      "cell_type": "code",
      "source": [
        "# prompt: ตัวอย่างการใช้คำสั่ง clear() ลบข้อมูลทั้งหมดในอาร์เรย์\n",
        "\n",
        "# Create a list (Python's equivalent of an array)\n",
        "my_array = [10, 20, 30, 40, 50]\n",
        "\n",
        "print(\"Original array:\", my_array)\n",
        "\n",
        "# Clear all elements from the array\n",
        "my_array.clear()\n",
        "\n",
        "print(\"Array after clear():\", my_array)  # Output: []\n"
      ],
      "metadata": {
        "colab": {
          "base_uri": "https://localhost:8080/"
        },
        "id": "497ECSzzokhD",
        "outputId": "585f5775-0c9d-46c6-8f41-266f2453a122"
      },
      "execution_count": null,
      "outputs": [
        {
          "output_type": "stream",
          "name": "stdout",
          "text": [
            "Original array: [10, 20, 30, 40, 50]\n",
            "Array after clear(): []\n"
          ]
        }
      ]
    },
    {
      "cell_type": "code",
      "source": [
        "# prompt: ตัวอย่างการใช้คำสั่ง copy() สร้างสำเนาของอาร์เรย์\n",
        "\n",
        "# Create an array (list in Python)\n",
        "original_array = [10, 20, 30]\n",
        "\n",
        "# Create a copy of the array using the copy() method\n",
        "copied_array = original_array.copy()\n",
        "\n",
        "# Modify the copied array\n",
        "copied_array.append(40)\n",
        "\n",
        "# Print both arrays to demonstrate that they are independent\n",
        "print(\"Original array:\", original_array)  # Output: [10, 20, 30]\n",
        "print(\"Copied array:\", copied_array)  # Output: [10, 20, 30, 40]\n"
      ],
      "metadata": {
        "colab": {
          "base_uri": "https://localhost:8080/"
        },
        "id": "oryci9QGotHL",
        "outputId": "2faf1dd3-f115-4c35-9367-b9d2d144f651"
      },
      "execution_count": null,
      "outputs": [
        {
          "output_type": "stream",
          "name": "stdout",
          "text": [
            "Original array: [10, 20, 30]\n",
            "Copied array: [10, 20, 30, 40]\n"
          ]
        }
      ]
    },
    {
      "cell_type": "code",
      "source": [
        "# prompt: ตัวอย่างการใช้คำสั่ง count() นับจำนวนครั้งที่ข้อมูลปรากฏในอาร์เรย์\n",
        "\n",
        "# Create a list (array in other languages)\n",
        "my_list = [10, 20, 30, 10, 20, 10]\n",
        "\n",
        "# Count occurrences of 10 in the list\n",
        "count_10 = my_list.count(10)\n",
        "\n",
        "print(f\"The number 10 appears {count_10} times in the list.\")  # Output: 3\n",
        "\n",
        "# Count occurrences of 20 in the list\n",
        "count_20 = my_list.count(20)\n",
        "\n",
        "print(f\"The number 20 appears {count_20} times in the list.\") # Output: 2\n",
        "\n",
        "# Count occurrences of a value not in the list\n",
        "count_50 = my_list.count(50)\n",
        "print(f\"The number 50 appears {count_50} times in the list.\") # Output: 0\n"
      ],
      "metadata": {
        "colab": {
          "base_uri": "https://localhost:8080/"
        },
        "id": "hToaCGmGpDu8",
        "outputId": "c8f7d4e8-cb14-4e26-98a2-23d9489484d4"
      },
      "execution_count": null,
      "outputs": [
        {
          "output_type": "stream",
          "name": "stdout",
          "text": [
            "The number 10 appears 3 times in the list.\n",
            "The number 20 appears 2 times in the list.\n",
            "The number 50 appears 0 times in the list.\n"
          ]
        }
      ]
    },
    {
      "cell_type": "code",
      "source": [
        "# prompt: ตัวอย่างการใช้คำสั่ง index() หาตำแหน่งของข้อมูลในอาร์เรย์\n",
        "\n",
        "# Create a list (array in other languages)\n",
        "my_list = [10, 20, 30, 10, 20, 10]\n",
        "\n",
        "# Find the index of the first occurrence of 10\n",
        "index_10 = my_list.index(10)\n",
        "print(f\"The first occurrence of 10 is at index {index_10}\")  # Output: 0\n",
        "\n",
        "# Find the index of the first occurrence of 20\n",
        "index_20 = my_list.index(20)\n",
        "print(f\"The first occurrence of 20 is at index {index_20}\")  # Output: 1\n",
        "\n",
        "# Try to find the index of a value that's not in the list\n",
        "try:\n",
        "    index_50 = my_list.index(50)\n",
        "    print(f\"The first occurrence of 50 is at index {index_50}\")\n",
        "except ValueError:\n",
        "    print(\"The value 50 is not in the list\")\n",
        "\n",
        "# You can specify a starting index for the search\n",
        "index_10_from_2 = my_list.index(10, 2)  # Start searching from index 2\n",
        "print(f\"The first occurrence of 10 after index 2 is at index {index_10_from_2}\") # Output: 3\n",
        "\n",
        "# You can also specify both a starting and ending index\n",
        "index_10_between_2_and_4 = my_list.index(10, 2, 5) # Search between index 2 and 4 (exclusive of 5)\n",
        "print(f\"The first occurrence of 10 between indices 2 and 4 is at index {index_10_between_2_and_4}\") # Output: 3\n"
      ],
      "metadata": {
        "colab": {
          "base_uri": "https://localhost:8080/"
        },
        "id": "8PH2xLzHpUG3",
        "outputId": "5104f9f8-3645-4b83-8cf4-7ba3e606b856"
      },
      "execution_count": null,
      "outputs": [
        {
          "output_type": "stream",
          "name": "stdout",
          "text": [
            "The first occurrence of 10 is at index 0\n",
            "The first occurrence of 20 is at index 1\n",
            "The value 50 is not in the list\n",
            "The first occurrence of 10 after index 2 is at index 3\n",
            "The first occurrence of 10 between indices 2 and 4 is at index 3\n"
          ]
        }
      ]
    },
    {
      "cell_type": "code",
      "source": [
        "# prompt: ตัวอย่างการใช้คำสั่ง insert() แทรกข้อมูลที่ตำแหน่งที่ต้องการ\n",
        "\n",
        "# Example of using insert() to add elements at a specific position\n",
        "\n",
        "# Create a list (array in other languages)\n",
        "my_list = [10, 20, 30]\n",
        "\n",
        "print(\"Original list:\", my_list)\n",
        "\n",
        "# Insert 15 at index 1 (second position)\n",
        "my_list.insert(1, 15)\n",
        "\n",
        "print(\"List after inserting 15 at index 1:\", my_list)  # Output: [10, 15, 20, 30]\n",
        "\n",
        "\n",
        "# Insert \"hello\" at the beginning of the list (index 0)\n",
        "my_list.insert(0, \"hello\")\n",
        "print(\"List after inserting 'hello' at index 0:\", my_list) # Output: ['hello', 10, 15, 20, 30]\n",
        "\n",
        "\n",
        "# Insert a list at a specific position\n",
        "my_list.insert(3, [40, 50])\n",
        "print(\"List after inserting [40, 50] at index 3:\", my_list) # Output: ['hello', 10, 15, [40, 50], 20, 30]\n",
        "\n",
        "# Inserting at the end of the list is similar to using append()\n",
        "my_list.insert(len(my_list), 60) # Insert 60 at the end (same as my_list.append(60))\n",
        "print(\"List after inserting 60 at the end:\", my_list) # Output: ['hello', 10, 15, [40, 50], 20, 30, 60]\n",
        "\n"
      ],
      "metadata": {
        "id": "Zfh72HBopn_Y"
      },
      "execution_count": null,
      "outputs": []
    },
    {
      "cell_type": "code",
      "source": [
        "# prompt: ตัวอย่างการใช้คำสั่ง len() หาความยาวของอาร์เรย์\n",
        "\n",
        "# Example usage of len() to find the length of an array (list in Python)\n",
        "\n",
        "my_array = [10, 20, 30, 40, 50]\n",
        "array_length = len(my_array)\n",
        "print(f\"The length of the array is: {array_length}\")  # Output: 5\n",
        "\n",
        "\n",
        "# Another example with a 2D array (list of lists)\n",
        "my_2d_array = [[1, 2, 3], [4, 5, 6], [7, 8, 9]]\n",
        "\n",
        "# Get the length of the outer list (number of rows)\n",
        "rows = len(my_2d_array)\n",
        "print(f\"The number of rows in the 2D array is: {rows}\")  # Output: 3\n",
        "\n",
        "# Get the length of a specific row (number of columns in that row)\n",
        "columns_in_first_row = len(my_2d_array[0])\n",
        "print(f\"The number of columns in the first row is: {columns_in_first_row}\")  # Output: 3\n"
      ],
      "metadata": {
        "colab": {
          "base_uri": "https://localhost:8080/",
          "height": 252
        },
        "id": "Q0x_0yOWp3eL",
        "outputId": "901d1545-cbf3-48f6-91f9-3364854345af"
      },
      "execution_count": null,
      "outputs": [
        {
          "output_type": "stream",
          "name": "stdout",
          "text": [
            "0\n",
            "2\n"
          ]
        },
        {
          "output_type": "error",
          "ename": "NameError",
          "evalue": "name 'Array_B' is not defined",
          "traceback": [
            "\u001b[0;31m---------------------------------------------------------------------------\u001b[0m",
            "\u001b[0;31mNameError\u001b[0m                                 Traceback (most recent call last)",
            "\u001b[0;32m<ipython-input-26-d2282dcf2ae2>\u001b[0m in \u001b[0;36m<cell line: 0>\u001b[0;34m()\u001b[0m\n\u001b[1;32m      4\u001b[0m \u001b[0mprint\u001b[0m\u001b[0;34m(\u001b[0m\u001b[0mlen\u001b[0m\u001b[0;34m(\u001b[0m\u001b[0mmy_array\u001b[0m\u001b[0;34m)\u001b[0m\u001b[0;34m)\u001b[0m \u001b[0;31m# Output: 0 (since my_array was cleared)\u001b[0m\u001b[0;34m\u001b[0m\u001b[0;34m\u001b[0m\u001b[0m\n\u001b[1;32m      5\u001b[0m \u001b[0mprint\u001b[0m\u001b[0;34m(\u001b[0m\u001b[0mlen\u001b[0m\u001b[0;34m(\u001b[0m\u001b[0mArray_A\u001b[0m\u001b[0;34m)\u001b[0m\u001b[0;34m)\u001b[0m  \u001b[0;31m# Output: 3 (assuming Array_A still has the decimal numbers)\u001b[0m\u001b[0;34m\u001b[0m\u001b[0;34m\u001b[0m\u001b[0m\n\u001b[0;32m----> 6\u001b[0;31m \u001b[0mprint\u001b[0m\u001b[0;34m(\u001b[0m\u001b[0mlen\u001b[0m\u001b[0;34m(\u001b[0m\u001b[0mArray_B\u001b[0m\u001b[0;34m)\u001b[0m\u001b[0;34m)\u001b[0m  \u001b[0;31m# Output: 2\u001b[0m\u001b[0;34m\u001b[0m\u001b[0;34m\u001b[0m\u001b[0m\n\u001b[0m\u001b[1;32m      7\u001b[0m \u001b[0mprint\u001b[0m\u001b[0;34m(\u001b[0m\u001b[0mlen\u001b[0m\u001b[0;34m(\u001b[0m\u001b[0mArray\u001b[0m\u001b[0;34m)\u001b[0m\u001b[0;34m)\u001b[0m \u001b[0;31m# Output: 2\u001b[0m\u001b[0;34m\u001b[0m\u001b[0;34m\u001b[0m\u001b[0m\n\u001b[1;32m      8\u001b[0m \u001b[0mprint\u001b[0m\u001b[0;34m(\u001b[0m\u001b[0mlen\u001b[0m\u001b[0;34m(\u001b[0m\u001b[0mArray_A\u001b[0m\u001b[0;34m)\u001b[0m\u001b[0;34m)\u001b[0m \u001b[0;31m# Output: 2\u001b[0m\u001b[0;34m\u001b[0m\u001b[0;34m\u001b[0m\u001b[0m\n",
            "\u001b[0;31mNameError\u001b[0m: name 'Array_B' is not defined"
          ]
        }
      ]
    },
    {
      "cell_type": "code",
      "source": [
        "# prompt: ตัวอย่างการใช้คำสั่ง extend() รวมอาร์เรย์สองตัวเข้าด้วยกัน\n",
        "\n",
        "# Example of using extend() to combine two arrays\n",
        "\n",
        "# Create two arrays (lists in Python)\n",
        "array1 = [1, 2, 3]\n",
        "array2 = [4, 5, 6]\n",
        "\n",
        "# Use extend() to add elements of array2 to the end of array1\n",
        "array1.extend(array2)\n",
        "\n",
        "# Print the combined array\n",
        "print(\"Combined array:\", array1)  # Output: [1, 2, 3, 4, 5, 6]\n",
        "\n",
        "# Another example: extending with a string\n",
        "array3 = ['a', 'b']\n",
        "array3.extend('cd')\n",
        "print(array3) #Output: ['a','b', 'c', 'd']\n",
        "\n",
        "#The extend function can also be used with a tuple or set\n",
        "array4 = [1,2]\n",
        "array5 = (3,4)\n",
        "array4.extend(array5)\n",
        "print(array4) #Output: [1, 2, 3, 4]\n",
        "\n",
        "array6 = [1,2,3]\n",
        "array7 = {4,5,6}\n",
        "array6.extend(array7)\n",
        "print(array6) # Output will vary since set is unordered [1,2,3,4,5,6]\n"
      ],
      "metadata": {
        "id": "sVKe-zUlqiXL"
      },
      "execution_count": null,
      "outputs": []
    },
    {
      "cell_type": "code",
      "source": [
        "# prompt: ตัวอย่างการใช้คำสั่ง extend() รวมอาร์เรย์สองตัวเข้าด้วยกัน\n",
        "\n",
        "# Example of using extend() to combine two arrays\n",
        "\n",
        "# Create two arrays (lists in Python)\n",
        "array1 = [1, 2, 3]\n",
        "array2 = [4, 5, 6]\n",
        "\n",
        "# Use extend() to add elements of array2 to the end of array1\n",
        "array1.extend(array2)\n",
        "\n",
        "# Print the combined array\n",
        "print(\"Combined array:\", array1)  # Output: [1, 2, 3, 4, 5, 6]\n"
      ],
      "metadata": {
        "id": "sAZbiiXiqvqn"
      },
      "execution_count": null,
      "outputs": []
    },
    {
      "cell_type": "code",
      "source": [
        "# prompt: ตัวอย่างการใช้คำสั่ง pop(): ลบข้อมูลตามตำแหน่งที่ระบุ\n",
        "\n",
        "# Example of using pop() to remove elements from an array\n",
        "\n",
        "# Create an array (list in Python)\n",
        "my_array = [10, 20, 30, 40, 50]\n",
        "\n",
        "print(\"Original array:\", my_array)\n",
        "\n",
        "# Remove and return the element at index 2 (the third element)\n",
        "removed_element = my_array.pop(2)\n",
        "print(\"Removed element:\", removed_element)  # Output: 30\n",
        "print(\"Array after pop(2):\", my_array)  # Output: [10, 20, 40, 50]\n",
        "\n",
        "# If no index is specified, pop() removes and returns the last element\n",
        "last_element = my_array.pop()\n",
        "print(\"Removed last element:\", last_element) # Output: 50\n",
        "print(\"Array after pop():\", my_array) # Output: [10, 20, 40]\n",
        "\n",
        "# Trying to pop an element from an empty list will raise an IndexError\n",
        "empty_array = []\n",
        "try:\n",
        "    empty_array.pop()\n",
        "except IndexError:\n",
        "    print(\"Cannot pop from an empty array\")\n"
      ],
      "metadata": {
        "id": "kibEstNPqv_z"
      },
      "execution_count": null,
      "outputs": []
    },
    {
      "cell_type": "code",
      "source": [],
      "metadata": {
        "id": "qG1LVgzFrmiH"
      },
      "execution_count": null,
      "outputs": []
    },
    {
      "cell_type": "markdown",
      "source": [
        "ส่วนที่ 2: คำสั่งและฟังก์ชันสำหรับจัดการอาร์เรย์\n",
        "ส่วนนี้อธิบายวิธีการจัดการอาร์เรย์ด้วยคำสั่งต่างๆ เช่น:\n",
        "\n",
        "append(): เพิ่มข้อมูลต่อท้ายอาร์เรย์\n",
        "\n",
        "clear(): ลบข้อมูลทั้งหมดในอาร์เรย์\n",
        "\n",
        "copy(): สร้างสำเนาของอาร์เรย์\n",
        "\n",
        "count(): นับจำนวนครั้งที่ข้อมูลปรากฏในอาร์เรย์\n",
        "\n",
        "index(): หาตำแหน่งของข้อมูลในอาร์เรย์\n",
        "\n",
        "insert(): แทรกข้อมูลที่ตำแหน่งที่ต้องการ\n",
        "\n",
        "len(): หาความยาวของอาร์เรย์\n",
        "\n",
        "extend(): รวมอาร์เรย์สองตัวเข้าด้วยกัน\n",
        "\n",
        "pop(): ลบข้อมูลตามตำแหน่งที่ระบุ\n",
        "\n",
        "remove(): ลบข้อมูลตามค่าที่ระบุ\n",
        "\n",
        "reverse(): กลับลำดับข้อมูลในอาร์เรย์\n",
        "\n",
        "sort(): เรียงลำดับข้อมูลในอาร์เรย์"
      ],
      "metadata": {
        "id": "EY7StE8G0C2x"
      }
    }
  ]
}