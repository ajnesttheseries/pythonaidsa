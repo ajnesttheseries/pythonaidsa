{
  "nbformat": 4,
  "nbformat_minor": 0,
  "metadata": {
    "colab": {
      "provenance": []
    },
    "kernelspec": {
      "name": "python3",
      "display_name": "Python 3"
    },
    "language_info": {
      "name": "python"
    }
  },
  "cells": [
    {
      "cell_type": "markdown",
      "source": [
        "# **Basic Python Programming**\n",
        "\n",
        "Aj.NesT the Series"
      ],
      "metadata": {
        "id": "3W6IgU-K3Fil"
      }
    },
    {
      "cell_type": "code",
      "source": [
        "# prompt: การแสดงผลด้วยฟังก์ชัน print()\n",
        "\n",
        "print(\"Hello, World!\")\n"
      ],
      "metadata": {
        "colab": {
          "base_uri": "https://localhost:8080/"
        },
        "id": "1BeivAE6BZfr",
        "outputId": "0bdd9a9b-efba-48d8-cb36-b6850bef4c9b"
      },
      "execution_count": null,
      "outputs": [
        {
          "output_type": "stream",
          "name": "stdout",
          "text": [
            "Hello, World!\n"
          ]
        }
      ]
    },
    {
      "cell_type": "code",
      "source": [
        "# prompt: การใส่ข้อความ Comment แบบต่าง ๆ\n",
        "\n",
        "# This is a single-line comment\n",
        "\n",
        "\"\"\"\n",
        "This is a multi-line comment.\n",
        "It can span across multiple lines.\n",
        "\"\"\"\n",
        "\n",
        "'''\n",
        "This is also a multi-line comment.\n",
        "It can also span across multiple lines.\n",
        "'''\n",
        "\n",
        "print(\"Hello, World!\")\n"
      ],
      "metadata": {
        "colab": {
          "base_uri": "https://localhost:8080/"
        },
        "id": "JsH-G8zDBc2V",
        "outputId": "f7a02949-7d12-4516-82fb-5eb6b6b17c6b"
      },
      "execution_count": null,
      "outputs": [
        {
          "output_type": "stream",
          "name": "stdout",
          "text": [
            "Hello, World!\n"
          ]
        }
      ]
    },
    {
      "cell_type": "code",
      "source": [
        "# prompt: การประกาศค่าตัวแปร\n",
        "\n",
        "# Variable declaration and assignment\n",
        "name = \"Alice\"  # String variable\n",
        "age = 30       # Integer variable\n",
        "height = 5.8   # Float variable\n",
        "is_student = True  # Boolean variable\n",
        "\n",
        "# Printing the variables\n",
        "print(\"Name:\", name)\n",
        "print(\"Age:\", age)\n",
        "print(\"Height:\", height)\n",
        "print(\"Is student?\", is_student)"
      ],
      "metadata": {
        "colab": {
          "base_uri": "https://localhost:8080/"
        },
        "id": "kRuFNxuEB7BX",
        "outputId": "75a79751-b8c0-4a94-cfe4-f93f0fe8d315"
      },
      "execution_count": null,
      "outputs": [
        {
          "output_type": "stream",
          "name": "stdout",
          "text": [
            "Name: Alice\n",
            "Age: 30\n",
            "Height: 5.8\n",
            "Is student? True\n"
          ]
        }
      ]
    },
    {
      "cell_type": "code",
      "source": [
        "# prompt: การใช้งานคำสั่ง Escape Characters\n",
        "\n",
        "# Escape Characters\n",
        "\n",
        "print(\"This is a backslash: \\\\\")\n",
        "print(\"This is a newline character: \\nThis text is on a new line.\")\n",
        "print(\"This is a tab character: \\tThis text is indented.\")\n",
        "print(\"This is a carriage return character: \\rThis text overwrites the beginning.\")\n",
        "print(\"This is a backspace character: \\bThis text deletes the previous character.\")\n",
        "print('This is a single quote character: \\'')\n",
        "print(\"This is a double quote character: \\\"\")"
      ],
      "metadata": {
        "colab": {
          "base_uri": "https://localhost:8080/"
        },
        "id": "rdPUk2M0Hpco",
        "outputId": "4cfff3eb-922c-4a50-ae93-7fd55c62cb0d"
      },
      "execution_count": null,
      "outputs": [
        {
          "output_type": "stream",
          "name": "stdout",
          "text": [
            "This is a backslash: \\\n",
            "This is a newline character: \n",
            "This text is on a new line.\n",
            "This is a tab character: \tThis text is indented.\n",
            "This is a carriage return character: \rThis text overwrites the beginning.\n",
            "This is a backspace character: \bThis text deletes the previous character.\n",
            "This is a single quote character: '\n",
            "This is a double quote character: \"\n"
          ]
        }
      ]
    },
    {
      "cell_type": "code",
      "source": [
        "# prompt: การรับข้อมูลจากผู้ใช้ด้วย input()\n",
        "\n",
        "# Get user input\n",
        "name = input(\"Enter your name: \")\n",
        "age = int(input(\"Enter your age: \"))  # Convert input to integer\n",
        "\n",
        "# Print the user's information\n",
        "print(\"Your name is:\", name)\n",
        "print(\"Your age is:\", age)"
      ],
      "metadata": {
        "id": "HOSso9oADIOv"
      },
      "execution_count": null,
      "outputs": []
    },
    {
      "cell_type": "code",
      "source": [
        "# prompt: การใช้งานประโยค if statement แบบ if\n",
        "\n",
        "# Get user input for age\n",
        "age = int(input(\"Enter your age: \"))\n",
        "\n",
        "# Use an if statement to check if the age is greater than or equal to 18\n",
        "if age >= 18:\n",
        "  print(\"You are an adult.\")"
      ],
      "metadata": {
        "colab": {
          "base_uri": "https://localhost:8080/"
        },
        "id": "88k5BWRcCXe2",
        "outputId": "9a3f6ee5-11a5-4f74-9ce2-0bc9e5c1e63f"
      },
      "execution_count": null,
      "outputs": [
        {
          "output_type": "stream",
          "name": "stdout",
          "text": [
            "Enter your age: 30\n",
            "You are an adult.\n"
          ]
        }
      ]
    },
    {
      "cell_type": "code",
      "source": [
        "# prompt: การใช้งานประโยค if statement แบบ if else\n",
        "\n",
        "# Get user input for age\n",
        "age = int(input(\"Enter your age: \"))\n",
        "\n",
        "# Use an if-else statement to check if the age is greater than or equal to 18\n",
        "if age >= 18:\n",
        "  print(\"You are an adult.\")\n",
        "else:\n",
        "  print(\"You are a minor.\")"
      ],
      "metadata": {
        "colab": {
          "base_uri": "https://localhost:8080/"
        },
        "id": "mW7b9bo6DnQh",
        "outputId": "ef724986-dba5-4171-85a9-78d1057aeed7"
      },
      "execution_count": null,
      "outputs": [
        {
          "output_type": "stream",
          "name": "stdout",
          "text": [
            "Enter your age: 15\n",
            "You are a minor.\n"
          ]
        }
      ]
    },
    {
      "cell_type": "code",
      "source": [
        "# prompt: การใช้งานประโยค if statement แบบ if elif else\n",
        "\n",
        "# Get user input for age\n",
        "age = int(input(\"Enter your age: \"))\n",
        "\n",
        "# Use an if-elif-else statement to categorize the age\n",
        "if age < 5:\n",
        "  print(\"You are a baby.\")\n",
        "elif age < 13:\n",
        "  print(\"You are a child.\")\n",
        "elif age < 18:\n",
        "  print(\"You are a teenager.\")\n",
        "else:\n",
        "  print(\"You are an adult.\")"
      ],
      "metadata": {
        "colab": {
          "base_uri": "https://localhost:8080/"
        },
        "id": "zTel0m_cDujm",
        "outputId": "8cdfc27a-af2c-4615-8973-991e1b369cd8"
      },
      "execution_count": null,
      "outputs": [
        {
          "output_type": "stream",
          "name": "stdout",
          "text": [
            "Enter your age: 30\n",
            "You are an adult.\n"
          ]
        }
      ]
    },
    {
      "cell_type": "code",
      "source": [
        "# prompt: การใช้งานประโยค if statement แบบ nested if\n",
        "\n",
        "# Get user input for age and income\n",
        "age = int(input(\"Enter your age: \"))\n",
        "income = float(input(\"Enter your annual income: \"))\n",
        "\n",
        "# Nested if statement to determine eligibility for a loan\n",
        "if age >= 18:\n",
        "  if income >= 30000:\n",
        "    print(\"You are eligible for a loan.\")\n",
        "  else:\n",
        "    print(\"Your income is too low for a loan.\")\n",
        "else:\n",
        "  print(\"You are too young for a loan.\")"
      ],
      "metadata": {
        "colab": {
          "base_uri": "https://localhost:8080/"
        },
        "id": "OE8uCIUCEmcU",
        "outputId": "2f320e25-bb9f-4114-bdca-0729047422f8"
      },
      "execution_count": null,
      "outputs": [
        {
          "output_type": "stream",
          "name": "stdout",
          "text": [
            "Enter your age: 30\n",
            "Enter your annual income: 80000\n",
            "You are eligible for a loan.\n"
          ]
        }
      ]
    },
    {
      "cell_type": "code",
      "source": [
        "# prompt: การใช้งานประโยค match case statement\n",
        "\n",
        "# Get user input for a grade\n",
        "grade = input(\"Enter your grade (A, B, C, D, or F): \")\n",
        "\n",
        "# Use a match-case statement to determine the corresponding message\n",
        "match grade:\n",
        "    case \"A\":\n",
        "        print(\"Excellent work!\")\n",
        "    case \"B\":\n",
        "        print(\"Good job!\")\n",
        "    case \"C\":\n",
        "        print(\"Fair.\")\n",
        "    case \"D\":\n",
        "        print(\"Needs improvement.\")\n",
        "    case \"F\":\n",
        "        print(\"Failed.\")\n",
        "    case _:  # Default case for any other input\n",
        "        print(\"Invalid grade entered.\")"
      ],
      "metadata": {
        "colab": {
          "base_uri": "https://localhost:8080/"
        },
        "id": "dJ7KA_kYLAZq",
        "outputId": "cb0fe349-a59e-4ed7-eb18-07c14969aa98"
      },
      "execution_count": null,
      "outputs": [
        {
          "output_type": "stream",
          "name": "stdout",
          "text": [
            "Enter your grade (A, B, C, D, or F): A\n",
            "Excellent work!\n"
          ]
        }
      ]
    },
    {
      "cell_type": "code",
      "source": [
        "# prompt: การใช้งานคำสั่ง Arithmetic Operators\n",
        "\n",
        "# Arithmetic Operators\n",
        "\n",
        "# Addition\n",
        "a = 10\n",
        "b = 5\n",
        "sum_result = a + b\n",
        "print(\"Sum:\", sum_result)\n",
        "\n",
        "# Subtraction\n",
        "difference = a - b\n",
        "print(\"Difference:\", difference)\n",
        "\n",
        "# Multiplication\n",
        "product = a * b\n",
        "print(\"Product:\", product)\n",
        "\n",
        "\n",
        "# Division\n",
        "quotient = a / b\n",
        "print(\"Quotient:\", quotient)\n",
        "\n",
        "# Floor Division (integer division)\n",
        "floor_quotient = a // b\n",
        "print(\"Floor Quotient:\", floor_quotient)\n",
        "\n",
        "# Modulus (remainder)\n",
        "remainder = a % b\n",
        "print(\"Remainder:\", remainder)\n",
        "\n",
        "# Exponentiation\n",
        "exponent = a ** b  # a raised to the power of b\n",
        "print(\"Exponent:\", exponent)"
      ],
      "metadata": {
        "colab": {
          "base_uri": "https://localhost:8080/"
        },
        "id": "2CCOa_RVG8_l",
        "outputId": "e25e39ed-9887-4278-8463-c57c7267e95a"
      },
      "execution_count": null,
      "outputs": [
        {
          "output_type": "stream",
          "name": "stdout",
          "text": [
            "Sum: 15\n",
            "Difference: 5\n",
            "Product: 50\n",
            "Quotient: 2.0\n",
            "Floor Quotient: 2\n",
            "Remainder: 0\n",
            "Exponent: 100000\n"
          ]
        }
      ]
    },
    {
      "cell_type": "code",
      "source": [
        "# prompt: การใช้งานคำสั่ง Comparison Operators\n",
        "\n",
        "# Comparison Operators\n",
        "\n",
        "# Equal to (==)\n",
        "a = 10\n",
        "b = 5\n",
        "print(\"a == b:\", a == b)  # Output: False\n",
        "\n",
        "# Not equal to (!=)\n",
        "print(\"a != b:\", a != b)  # Output: True\n",
        "\n",
        "# Greater than (>)\n",
        "print(\"a > b:\", a > b)  # Output: True\n",
        "\n",
        "# Less than (<)\n",
        "print(\"a < b:\", a < b)  # Output: False\n",
        "\n",
        "# Greater than or equal to (>=)\n",
        "print(\"a >= b:\", a >= b)  # Output: True\n",
        "\n",
        "# Less than or equal to (<=)\n",
        "print(\"a <= b:\", a <= b)  # Output: False\n",
        "\n",
        "\n",
        "# Examples with strings\n",
        "str1 = \"hello\"\n",
        "str2 = \"world\"\n",
        "str3 = \"hello\"\n",
        "\n",
        "print(\"str1 == str2:\", str1 == str2) # Output: False\n",
        "print(\"str1 == str3:\", str1 == str3) # Output: True\n",
        "print(\"str1 != str2:\", str1 != str2) # Output: True\n",
        "print(\"str1 < str2:\", str1 < str2) # Output: True (lexicographical comparison)"
      ],
      "metadata": {
        "colab": {
          "base_uri": "https://localhost:8080/"
        },
        "id": "51NoyB2hHRjI",
        "outputId": "6d9b2877-c03d-4faa-89d5-c3321dd1efb2"
      },
      "execution_count": null,
      "outputs": [
        {
          "output_type": "stream",
          "name": "stdout",
          "text": [
            "a == b: False\n",
            "a != b: True\n",
            "a > b: True\n",
            "a < b: False\n",
            "a >= b: True\n",
            "a <= b: False\n",
            "str1 == str2: False\n",
            "str1 == str3: True\n",
            "str1 != str2: True\n",
            "str1 < str2: True\n"
          ]
        }
      ]
    },
    {
      "cell_type": "code",
      "source": [
        "# prompt: การใช้งานคำสั่ง Logical Operators\n",
        "\n",
        "# Logical Operators\n",
        "\n",
        "# and (logical AND)\n",
        "a = True\n",
        "b = False\n",
        "print(\"a and b:\", a and b)  # Output: False\n",
        "\n",
        "# or (logical OR)\n",
        "print(\"a or b:\", a or b)  # Output: True\n",
        "\n",
        "# not (logical NOT)\n",
        "print(\"not a:\", not a)  # Output: False\n",
        "print(\"not b:\", not b)  # Output: True\n",
        "\n",
        "\n",
        "# Examples with numbers (0 is considered False, other numbers are True)\n",
        "\n",
        "x = 10\n",
        "y = 0\n",
        "\n",
        "print(\"x and y:\", x and y)  # Output: 0 (because y is 0, which is considered False)\n",
        "print(\"x or y:\", x or y)  # Output: 10 (because x is not 0, which is considered True)\n",
        "print(\"not x:\", not x)  # Output: False (because x is not 0, which is considered True)\n",
        "print(\"not y:\", not y)  # Output: True (because y is 0 which is considered False)\n",
        "\n",
        "\n",
        "# Combining Logical Operators\n",
        "\n",
        "p = True\n",
        "q = False\n",
        "r = True\n",
        "\n",
        "print(\"(p and q) or r:\", (p and q) or r)  # Output: True  (False or True)\n",
        "print(\"p and (q or r):\", p and (q or r))  # Output: True  (True and True)\n",
        "print(\"not (p and q):\", not (p and q)) # Output: True (not False)"
      ],
      "metadata": {
        "colab": {
          "base_uri": "https://localhost:8080/"
        },
        "id": "qiTY85eFHZUd",
        "outputId": "7bc907df-3ec0-4a6a-f9e8-dbb1fa8a31df"
      },
      "execution_count": null,
      "outputs": [
        {
          "output_type": "stream",
          "name": "stdout",
          "text": [
            "a and b: False\n",
            "a or b: True\n",
            "not a: False\n",
            "not b: True\n",
            "x and y: 0\n",
            "x or y: 10\n",
            "not x: False\n",
            "not y: True\n",
            "(p and q) or r: True\n",
            "p and (q or r): True\n",
            "not (p and q): True\n"
          ]
        }
      ]
    },
    {
      "cell_type": "code",
      "source": [
        "# prompt: การใช้งานประโยค loop statement แบบ for loop ด้วย range() อย่างง่าย\n",
        "\n",
        "# For loop with range()\n",
        "\n",
        "# Print numbers from 0 to 9\n",
        "for i in range(10):\n",
        "  print(i)\n",
        "\n",
        "# Print numbers from 2 to 5\n",
        "for i in range(2, 6):\n",
        "  print(i)\n",
        "\n",
        "# Print numbers from 1 to 10 with a step of 2\n",
        "for i in range(1, 11, 2):\n",
        "  print(i)"
      ],
      "metadata": {
        "colab": {
          "base_uri": "https://localhost:8080/"
        },
        "id": "fOhc7O3pRCah",
        "outputId": "8dbf55f5-bd65-4444-c0e4-8fbdea0a02be"
      },
      "execution_count": 86,
      "outputs": [
        {
          "output_type": "stream",
          "name": "stdout",
          "text": [
            "0\n",
            "1\n",
            "2\n",
            "3\n",
            "4\n",
            "5\n",
            "6\n",
            "7\n",
            "8\n",
            "9\n",
            "2\n",
            "3\n",
            "4\n",
            "5\n",
            "1\n",
            "3\n",
            "5\n",
            "7\n",
            "9\n"
          ]
        }
      ]
    },
    {
      "cell_type": "code",
      "source": [
        "# prompt: การใช้งานประโยค loop statement แบบ while loop อย่างง่าย\n",
        "\n",
        "# Initialize a counter variable\n",
        "count = 0\n",
        "\n",
        "# Set a condition for the loop to continue\n",
        "while count < 5:\n",
        "  print(\"Count:\", count)\n",
        "  count += 1 # Increment the counter in each iteration\n",
        "\n",
        "print(\"Loop finished!\")"
      ],
      "metadata": {
        "colab": {
          "base_uri": "https://localhost:8080/"
        },
        "id": "oW-9UkatQqti",
        "outputId": "aed3f582-fa1c-494c-e82e-9761563a9fb6"
      },
      "execution_count": 87,
      "outputs": [
        {
          "output_type": "stream",
          "name": "stdout",
          "text": [
            "Count: 0\n",
            "Count: 1\n",
            "Count: 2\n",
            "Count: 3\n",
            "Count: 4\n",
            "Loop finished!\n"
          ]
        }
      ]
    }
  ]
}